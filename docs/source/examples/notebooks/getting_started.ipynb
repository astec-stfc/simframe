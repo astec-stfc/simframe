{
 "cells": [
  {
   "cell_type": "markdown",
   "id": "801ca4e6-af5a-4c51-b0e6-ffb0be338e46",
   "metadata": {},
   "source": [
    "## Getting started with SimFrame"
   ]
  },
  {
   "cell_type": "markdown",
   "id": "1fd06310-63aa-4f50-b67f-d63893108de5",
   "metadata": {},
   "source": [
    "This notebook will show how to set up SimFrame, load in a `MasterLattice` object and settings for tracking, and show how to plot the results.\n",
    "\n",
    "It is assumed that the [MasterLattice](https://github.com/astec-stfc/masterlattice/) and [SimCodes](https://github.com/astec-stfc/simcodes/) repositories have been cloned, and that they are accessible at the same directory level as SimFrame. Alternatively, these can be installed via `setup.py` in their respective directories, in which case they do not have to be provided on instantiation."
   ]
  },
  {
   "cell_type": "code",
   "execution_count": 1,
   "id": "d5bf300e-0888-406b-a695-2f364ba59592",
   "metadata": {},
   "outputs": [
    {
     "name": "stdout",
     "output_type": "stream",
     "text": [
      "initializing ocelot...\n"
     ]
    },
    {
     "name": "stderr",
     "output_type": "stream",
     "text": [
      "Invalid MIT-MAGIC-COOKIE-1 key"
     ]
    }
   ],
   "source": [
    "import sys\n",
    "import numpy as np\n",
    "import matplotlib.pyplot as plt\n",
    "\n",
    "sys.path.insert(0, \"../../../../\")\n",
    "import SimulationFramework.Framework as fw  # noqa E402\n",
    "from SimulationFramework.Framework import load_directory  # noqa E402\n",
    "import SimulationFramework.Modules.Beams as rbf  # noqa E402\n",
    "import SimulationFramework.Modules.Twiss as rtf  # noqa E402\n",
    "\n",
    "# Define a new framework instance, in directory 'getting_started'.\n",
    "#       \"clean\" will empty (delete everything!) in the directory if true\n",
    "#       \"verbose\" will print a progressbar if true\n",
    "framework = fw.Framework(\n",
    "        master_lattice='../../../../../masterlattice/MasterLattice/',\n",
    "        simcodes='../../../../../simcodes/SimCodes',\n",
    "        directory=\"./getting_started\",\n",
    "        clean=False,\n",
    "        verbose=False\n",
    "    )\n",
    "\n",
    "scaling = 4"
   ]
  },
  {
   "cell_type": "markdown",
   "id": "76afb759-b10f-4d61-9cab-7d551484fa8a",
   "metadata": {},
   "source": [
    "### Preparing the simulation and tracking"
   ]
  },
  {
   "cell_type": "markdown",
   "id": "292970f3-d338-4008-a2d0-5ecef935f12d",
   "metadata": {},
   "source": [
    "Load a lattice definition file. These can be found in `Masterlattice/Lattices` by default."
   ]
  },
  {
   "cell_type": "code",
   "execution_count": 2,
   "id": "aa477476-65be-4e92-94f8-e3757fc39e28",
   "metadata": {},
   "outputs": [],
   "source": [
    "framework.loadSettings(\"Lattices/clara400_v13_SP3.def\")\n",
    "startline = \"generator\"\n",
    "endline = \"S06\""
   ]
  },
  {
   "cell_type": "markdown",
   "id": "f5218b6d-c2c2-4666-ab7f-2fbec93777b1",
   "metadata": {},
   "source": [
    "Change all lattice codes to ASTRA/Elegant/GPT/Ocelot with exclusions (injector can only be done in ASTRA/GPT)."
   ]
  },
  {
   "cell_type": "code",
   "execution_count": 3,
   "id": "fcb87429-f975-4721-919f-247927fc8e31",
   "metadata": {},
   "outputs": [],
   "source": [
    "framework.change_Lattice_Code(\"All\", \"elegant\", exclude=[\"injector400\"])\n",
    "\n",
    "# Individual lattice lines defined in the settings file can also be changed,\n",
    "# i.e. framework.change_Lattice_Code(\"VBC\", \"elegant\")"
   ]
  },
  {
   "cell_type": "markdown",
   "id": "fe667984-87e3-4fb6-a1b6-567b30992dc0",
   "metadata": {},
   "source": [
    "This is the code that generates the laser distribution (ASTRA or GPT)"
   ]
  },
  {
   "cell_type": "code",
   "execution_count": 4,
   "id": "7d680265-4d2e-4c65-9923-14ec8f5ea951",
   "metadata": {},
   "outputs": [],
   "source": [
    "framework.change_generator(\"ASTRA\")"
   ]
  },
  {
   "cell_type": "markdown",
   "id": "217dbfe7-6525-4d35-881e-ccee056afc0f",
   "metadata": {},
   "source": [
    "Load a starting laser distribution setting"
   ]
  },
  {
   "cell_type": "code",
   "execution_count": 5,
   "id": "42a9a5e0-b187-4064-bfe3-739bdf733b0c",
   "metadata": {},
   "outputs": [],
   "source": [
    "framework.generator.load_defaults(\"clara_400_2ps_Gaussian\")"
   ]
  },
  {
   "cell_type": "markdown",
   "id": "b86cb842-ec15-4b9b-8803-981bf47b0e15",
   "metadata": {},
   "source": [
    "Set the thermal emittance for the generator"
   ]
  },
  {
   "cell_type": "code",
   "execution_count": 6,
   "id": "db58bcdb-e915-4641-9bad-7f3d97e95b9c",
   "metadata": {},
   "outputs": [],
   "source": [
    "framework.generator.thermal_emittance = 0.0005"
   ]
  },
  {
   "cell_type": "markdown",
   "id": "26ffc04b-7b1a-453a-9e93-359e5105063d",
   "metadata": {},
   "source": [
    "This is a scaling parameter. it defines the number of particles to create at the gun (this is \"ASTRA generator\" which creates distributions).\n",
    "The space charge 3D mesh in ASTRA/GPT performs best if the number of particles is a power of 8."
   ]
  },
  {
   "cell_type": "code",
   "execution_count": 7,
   "id": "2364f673-a81c-4c9e-957b-bc16d467a0e6",
   "metadata": {},
   "outputs": [],
   "source": [
    "framework.generator.number_of_particles = 2 ** (3 * scaling)"
   ]
  },
  {
   "cell_type": "markdown",
   "id": "566adf6b-4667-41a0-98e3-4089592058b6",
   "metadata": {},
   "source": [
    "Modify some lattice parameters"
   ]
  },
  {
   "cell_type": "code",
   "execution_count": 8,
   "id": "50794df6-bbca-47f9-b056-246549d66605",
   "metadata": {},
   "outputs": [],
   "source": [
    "framework[\"CLA-S02-MAG-QUAD-01\"].k1l += 0.1\n",
    "framework[\"CLA-L03-LIN-CAV-01\"].phase += 5\n",
    "framework[\"bunch_compressor\"].set_angle(0.090) "
   ]
  },
  {
   "cell_type": "markdown",
   "id": "3d04bdad-72ff-4097-8def-9a21f834ab82",
   "metadata": {},
   "source": [
    "Generate and track the bunch "
   ]
  },
  {
   "cell_type": "code",
   "execution_count": 9,
   "id": "c2a2c950-042f-400c-8fa4-10c727c3188f",
   "metadata": {},
   "outputs": [],
   "source": [
    "framework.track(startfile=startline, endfile=endline)"
   ]
  },
  {
   "cell_type": "markdown",
   "id": "09e0c347-3fea-4133-b0e0-47a7b5984cb3",
   "metadata": {},
   "source": [
    "The outputs from the simulation can now be loaded as follows, and we can plot the beam evolution along the line"
   ]
  },
  {
   "cell_type": "code",
   "execution_count": 3,
   "id": "5362b618-6ebc-4ad4-827f-5c66a8292834",
   "metadata": {},
   "outputs": [
    {
     "name": "stdout",
     "output_type": "stream",
     "text": [
      "Found MasterLattice Package = /home/xkc85723/Documents/masterlattice/MasterLattice/./\n",
      "Found SimCodes Package = /home/xkc85723/Documents/simcodes/SimCodes/./\n",
      "Directory: /home/xkc85723/Documents/simframe/docs/source/examples/notebooks/getting_started\n",
      "elegant ['S05.twi', 'S04.twi', 'L4H.twi', 'L02.twi', 'VBC.twi', 'L03.twi', 'S06.twi', 'S03.twi', 'S02.twi']\n",
      "elegant\n",
      "name='z' unit='m' val=array([ 0.        ,  0.        ,  0.        ,  0.231068  ,  0.393068  ,\n",
      "        0.439768  ,  0.489768  ,  0.6037    ,  0.6537    ,  0.692938  ,\n",
      "        0.703438  ,  0.703438  ,  0.713938  ,  0.7572    ,  0.7572    ,\n",
      "        0.804928  ,  0.884928  ,  0.981068  ,  1.143068  ,  1.193068  ,\n",
      "        1.298068  ,  1.298068  ,  1.403068  ,  1.4031    ,  1.4031    ,\n",
      "        1.4031    ,  1.4031    ,  1.4031    ,  1.4031    ,  1.531668  ,\n",
      "        1.581668  ,  1.621168  ,  1.783168  ,  1.833668  ,  1.883668  ,\n",
      "        1.988668  ,  1.988668  ,  2.093668  ,  2.141168  ,  2.303168  ,\n",
      "        2.516463  ,  2.516463  ,  2.641168  ,  2.803168  ,  2.8531    ,\n",
      "        2.9581    ,  2.9581    ,  3.0631    ,  3.141168  ,  3.303168  ,\n",
      "        3.527668  ,  3.577668  ,  3.6565    ,  3.6565    ,  4.436468  ,\n",
      "        4.436468  ,  4.5881    ,  4.6381    ,  4.6881    ,  4.7056    ,\n",
      "        4.7056    ,  4.7231    ,  5.438168  ,  5.543168  ,  5.543168  ,\n",
      "        5.648168  ,  5.691468  ,  5.691468  ,  6.5181    ,  6.5181    ,\n",
      "        6.656168  ,  6.818168  ,  6.907668  ,  6.957668  ,  7.156168  ,\n",
      "        7.318168  ,  7.398168  ,  7.503168  ,  7.503168  ,  7.608168  ,\n",
      "        7.656168  ,  7.818168  ,  7.967668  ,  8.017668  ,  8.166168  ,\n",
      "        8.328168  ,  8.378168  ,  8.483168  ,  8.483168  ,  8.588168  ,\n",
      "        8.6601    ,  8.6601    ,  8.6601    ,  8.6601    ,  8.6601    ,\n",
      "        8.6601    ,  8.6601    ,  8.781246  ,  9.531246  ,  9.638746  ,\n",
      "        9.638746  ,  9.638746  ,  9.638746  ,  9.638746  ,  9.638746  ,\n",
      "        9.759714  , 13.826384  , 13.858559  , 13.858559  , 13.859459  ,\n",
      "       13.859459  , 13.859459  , 13.859459  , 13.859459  , 13.859459  ,\n",
      "       14.099436  , 14.30014579, 15.79939028, 16.00010007, 16.29726007,\n",
      "       16.34726007, 16.37240807, 16.38800807, 16.38800807, 16.40360807,\n",
      "       16.43346007, 16.91346007, 16.93896007, 16.93896007, 17.29943707,\n",
      "       17.50014686, 18.99939136, 19.20010114, 19.30196114, 19.30196114,\n",
      "       19.30196114, 19.30196114, 19.30196114, 19.30196114, 19.41693014,\n",
      "       23.48360014, 23.52523014, 23.52523014, 23.52523014, 23.52523014,\n",
      "       23.52523014, 23.52523014, 23.52523014, 23.84023014, 23.89023014,\n",
      "       23.91541814, 23.92541814, 23.92541814, 23.93541814, 24.03541814,\n",
      "       24.18541814, 24.32141814, 24.40141814, 24.50673014, 24.79523014,\n",
      "       24.89541814, 25.04541814, 25.18266414, 25.18266414, 26.07543014,\n",
      "       26.12543014, 26.17440814, 26.18690814, 26.18690814, 26.19940814,\n",
      "       26.24270814, 26.24270814, 26.37543014, 26.37543014, 26.37543014,\n",
      "       26.37543014, 26.37543014, 26.37543014, 26.37543014, 26.56543014,\n",
      "       26.67043014, 26.67043014, 26.77543014, 26.86343014, 27.02543014,\n",
      "       27.25043014, 27.30043014, 27.38873014, 27.38873014, 27.52823014,\n",
      "       27.52823014, 27.52823014, 27.52823014, 27.52823014, 27.52823014,\n",
      "       27.52823314, 27.60484014, 27.70810014, 27.80880014, 27.83005014,\n",
      "       27.83005014, 27.85130014, 28.10810014, 28.20880014, 28.32040014,\n",
      "       28.32040014, 28.45291014, 28.48291014, 28.57492014, 28.92492014,\n",
      "       28.92492014, 29.02530014, 29.05530014, 29.24140014, 29.24140014,\n",
      "       29.40810014, 29.50880014, 29.80810014, 29.90880014, 30.62125014,\n",
      "       30.72195014, 30.74727514, 30.74727514, 30.77260014, 30.81590014,\n",
      "       30.81590014, 30.87674314, 30.95335014, 30.97980014, 30.97980014,\n",
      "       30.97980014]) label='z' dtype='f'\n",
      "GPT []\n",
      "ASTRA ['injector400.Xemit.001']\n",
      "ASTRA\n",
      "name='z' unit='m' val=array([0.00000000e+00, 0.00000000e+00, 0.00000000e+00, 2.31068000e-01,\n",
      "       3.93068000e-01, 4.39768000e-01, 4.89768000e-01, 6.03700000e-01,\n",
      "       6.53700000e-01, 6.92938000e-01, 7.03438000e-01, 7.03438000e-01,\n",
      "       7.13938000e-01, 7.57200000e-01, 7.57200000e-01, 8.04928000e-01,\n",
      "       8.84928000e-01, 9.81068000e-01, 1.14306800e+00, 1.19306800e+00,\n",
      "       1.29806800e+00, 1.29806800e+00, 1.40306800e+00, 1.40310000e+00,\n",
      "       1.40310000e+00, 1.40310000e+00, 1.40310000e+00, 1.40310000e+00,\n",
      "       1.40310000e+00, 1.53166800e+00, 1.58166800e+00, 1.62116800e+00,\n",
      "       1.78316800e+00, 1.83366800e+00, 1.88366800e+00, 1.98866800e+00,\n",
      "       1.98866800e+00, 2.09366800e+00, 2.14116800e+00, 2.30316800e+00,\n",
      "       2.51646300e+00, 2.51646300e+00, 2.64116800e+00, 2.80316800e+00,\n",
      "       2.85310000e+00, 2.95810000e+00, 2.95810000e+00, 3.06310000e+00,\n",
      "       3.14116800e+00, 3.30316800e+00, 3.52766800e+00, 3.57766800e+00,\n",
      "       3.65650000e+00, 3.65650000e+00, 4.43646800e+00, 4.43646800e+00,\n",
      "       4.58810000e+00, 4.63810000e+00, 4.68810000e+00, 4.70560000e+00,\n",
      "       4.70560000e+00, 4.72310000e+00, 5.43816800e+00, 5.54316800e+00,\n",
      "       5.54316800e+00, 5.64816800e+00, 5.69146800e+00, 5.69146800e+00,\n",
      "       6.51810000e+00, 6.51810000e+00, 6.65616800e+00, 6.81816800e+00,\n",
      "       6.90766800e+00, 6.95766800e+00, 7.15616800e+00, 7.31816800e+00,\n",
      "       7.39816800e+00, 7.50316800e+00, 7.50316800e+00, 7.60816800e+00,\n",
      "       7.65616800e+00, 7.81816800e+00, 7.96766800e+00, 8.01766800e+00,\n",
      "       8.16616800e+00, 8.32816800e+00, 8.37816800e+00, 8.48316800e+00,\n",
      "       8.48316800e+00, 8.58816800e+00, 8.66010000e+00, 8.66010000e+00,\n",
      "       8.66010000e+00, 8.66010000e+00, 8.66010000e+00, 8.66010000e+00,\n",
      "       8.66010000e+00, 8.78124600e+00, 9.53124600e+00, 9.63874600e+00,\n",
      "       9.63874600e+00, 9.63874600e+00, 9.63874600e+00, 9.63874600e+00,\n",
      "       9.63874600e+00, 9.75971400e+00, 1.38263840e+01, 1.38585590e+01,\n",
      "       1.38585590e+01, 1.38594590e+01, 1.38594590e+01, 1.38594590e+01,\n",
      "       1.38594590e+01, 1.38594590e+01, 1.38594590e+01, 1.40994360e+01,\n",
      "       1.43001458e+01, 1.57993903e+01, 1.60001001e+01, 1.62972601e+01,\n",
      "       1.63472601e+01, 1.63724081e+01, 1.63880081e+01, 1.63880081e+01,\n",
      "       1.64036081e+01, 1.64334601e+01, 1.69134601e+01, 1.69389601e+01,\n",
      "       1.69389601e+01, 1.72994371e+01, 1.75001469e+01, 1.89993914e+01,\n",
      "       1.92001011e+01, 1.93019611e+01, 1.93019611e+01, 1.93019611e+01,\n",
      "       1.93019611e+01, 1.93019611e+01, 1.93019611e+01, 1.94169301e+01,\n",
      "       2.34836001e+01, 2.35252301e+01, 2.35252301e+01, 2.35252301e+01,\n",
      "       2.35252301e+01, 2.35252301e+01, 2.35252301e+01, 2.35252301e+01,\n",
      "       2.38402301e+01, 2.38902301e+01, 2.39154181e+01, 2.39254181e+01,\n",
      "       2.39254181e+01, 2.39354181e+01, 2.40354181e+01, 2.41854181e+01,\n",
      "       2.43214181e+01, 2.44014181e+01, 2.45067301e+01, 2.47952301e+01,\n",
      "       2.48954181e+01, 2.50454181e+01, 2.51826641e+01, 2.51826641e+01,\n",
      "       2.60754301e+01, 2.61254301e+01, 2.61744081e+01, 2.61869081e+01,\n",
      "       2.61869081e+01, 2.61994081e+01, 2.62427081e+01, 2.62427081e+01,\n",
      "       2.63754301e+01, 2.63754301e+01, 2.63754301e+01, 2.63754301e+01,\n",
      "       2.63754301e+01, 2.63754301e+01, 2.63754301e+01, 2.65654301e+01,\n",
      "       2.66704301e+01, 2.66704301e+01, 2.67754301e+01, 2.68634301e+01,\n",
      "       2.70254301e+01, 2.72504301e+01, 2.73004301e+01, 2.73887301e+01,\n",
      "       2.73887301e+01, 2.75282301e+01, 2.75282301e+01, 2.75282301e+01,\n",
      "       2.75282301e+01, 2.75282301e+01, 2.75282301e+01, 2.75282331e+01,\n",
      "       2.76048401e+01, 2.77081001e+01, 2.78088001e+01, 2.78300501e+01,\n",
      "       2.78300501e+01, 2.78513001e+01, 2.81081001e+01, 2.82088001e+01,\n",
      "       2.83204001e+01, 2.83204001e+01, 2.84529101e+01, 2.84829101e+01,\n",
      "       2.85749201e+01, 2.89249201e+01, 2.89249201e+01, 2.90253001e+01,\n",
      "       2.90553001e+01, 2.92414001e+01, 2.92414001e+01, 2.94081001e+01,\n",
      "       2.95088001e+01, 2.98081001e+01, 2.99088001e+01, 3.06212501e+01,\n",
      "       3.07219501e+01, 3.07472751e+01, 3.07472751e+01, 3.07726001e+01,\n",
      "       3.08159001e+01, 3.08159001e+01, 3.08767431e+01, 3.09533501e+01,\n",
      "       3.09798001e+01, 3.09798001e+01, 3.09798001e+01, 0.00000000e+00,\n",
      "       1.59810000e-02, 2.00540000e-02, 3.00630000e-02, 4.00840000e-02,\n",
      "       5.01050000e-02, 6.01270000e-02, 7.01470000e-02, 8.01680000e-02,\n",
      "       9.01900000e-02, 1.00210000e-01, 1.10230000e-01, 1.20250000e-01,\n",
      "       1.30270000e-01, 1.40290000e-01, 1.50320000e-01, 1.60340000e-01,\n",
      "       1.70360000e-01, 1.80380000e-01, 1.90400000e-01, 2.00420000e-01,\n",
      "       2.10440000e-01, 2.20460000e-01, 2.30480000e-01, 2.40510000e-01,\n",
      "       2.50530000e-01, 2.60550000e-01, 2.70570000e-01, 2.80590000e-01,\n",
      "       2.90610000e-01, 3.00630000e-01, 3.10650000e-01, 3.20670000e-01,\n",
      "       3.30700000e-01, 3.40720000e-01, 3.50740000e-01, 3.60760000e-01,\n",
      "       3.70780000e-01, 3.80800000e-01, 3.90820000e-01, 4.00840000e-01,\n",
      "       4.10860000e-01, 4.20880000e-01, 4.30910000e-01, 4.40930000e-01,\n",
      "       4.50950000e-01, 4.60970000e-01, 4.70990000e-01, 4.81010000e-01,\n",
      "       4.91030000e-01, 5.01050000e-01, 5.11070000e-01, 5.21100000e-01,\n",
      "       5.31120000e-01, 5.41140000e-01, 5.51160000e-01, 5.61180000e-01,\n",
      "       5.71200000e-01, 5.81220000e-01, 5.91240000e-01, 6.01260000e-01,\n",
      "       6.11280000e-01, 6.21310000e-01, 6.31330000e-01, 6.41350000e-01,\n",
      "       6.51370000e-01, 6.61390000e-01, 6.71410000e-01, 6.81430000e-01,\n",
      "       6.91450000e-01, 7.01470000e-01, 7.11500000e-01, 7.21520000e-01,\n",
      "       7.31540000e-01, 7.41560000e-01, 7.51580000e-01, 7.61600000e-01,\n",
      "       7.71620000e-01, 7.81640000e-01, 7.91660000e-01, 8.01680000e-01,\n",
      "       8.11710000e-01, 8.21730000e-01, 8.31750000e-01, 8.41770000e-01,\n",
      "       8.51790000e-01, 8.61810000e-01, 8.71830000e-01, 8.81850000e-01,\n",
      "       8.91870000e-01, 8.94050000e-01, 9.01900000e-01, 9.11920000e-01,\n",
      "       9.21940000e-01, 9.31960000e-01, 9.41980000e-01, 9.52000000e-01,\n",
      "       9.62020000e-01, 9.72040000e-01, 9.80300000e-01, 9.82060000e-01,\n",
      "       9.92080000e-01, 1.00210000e+00, 1.01210000e+00, 1.02210000e+00,\n",
      "       1.03220000e+00, 1.04220000e+00, 1.05220000e+00, 1.06220000e+00,\n",
      "       1.07230000e+00, 1.08230000e+00, 1.09230000e+00, 1.10230000e+00,\n",
      "       1.11230000e+00, 1.12240000e+00, 1.13240000e+00, 1.14240000e+00,\n",
      "       1.15240000e+00, 1.16240000e+00, 1.17250000e+00, 1.18250000e+00,\n",
      "       1.19250000e+00, 1.20250000e+00, 1.21250000e+00, 1.22260000e+00,\n",
      "       1.23260000e+00, 1.24260000e+00, 1.25260000e+00, 1.25970000e+00,\n",
      "       1.26270000e+00, 1.27270000e+00, 1.28270000e+00, 1.29270000e+00,\n",
      "       1.29310000e+00, 1.30270000e+00, 1.31280000e+00, 1.32280000e+00,\n",
      "       1.32640000e+00, 1.33280000e+00, 1.34280000e+00, 1.35280000e+00,\n",
      "       1.35970000e+00, 1.36290000e+00, 1.37290000e+00, 1.38290000e+00,\n",
      "       1.39290000e+00, 1.39310000e+00, 1.40290000e+00, 1.41300000e+00,\n",
      "       1.42300000e+00, 1.42640000e+00, 1.43300000e+00, 1.44300000e+00,\n",
      "       1.45310000e+00, 1.45970000e+00, 1.46310000e+00, 1.47310000e+00,\n",
      "       1.48310000e+00, 1.49310000e+00, 1.50320000e+00, 1.51320000e+00,\n",
      "       1.52320000e+00, 1.52640000e+00, 1.53320000e+00, 1.54320000e+00,\n",
      "       1.55330000e+00, 1.55970000e+00, 1.56330000e+00, 1.57330000e+00,\n",
      "       1.58330000e+00, 1.59310000e+00, 1.59330000e+00, 1.60340000e+00,\n",
      "       1.61340000e+00, 1.62340000e+00, 1.62640000e+00, 1.63340000e+00,\n",
      "       1.64350000e+00, 1.65350000e+00, 1.65970000e+00, 1.66350000e+00,\n",
      "       1.67350000e+00, 1.68350000e+00, 1.69310000e+00, 1.69360000e+00,\n",
      "       1.70360000e+00, 1.71360000e+00, 1.72360000e+00, 1.72640000e+00,\n",
      "       1.73360000e+00, 1.74370000e+00, 1.75370000e+00, 1.75970000e+00,\n",
      "       1.76370000e+00, 1.77370000e+00, 1.78370000e+00, 1.79310000e+00,\n",
      "       1.79380000e+00, 1.80380000e+00, 1.81380000e+00, 1.82380000e+00,\n",
      "       1.82640000e+00, 1.83390000e+00, 1.84390000e+00, 1.85390000e+00,\n",
      "       1.85970000e+00, 1.86390000e+00, 1.87390000e+00, 1.88400000e+00,\n",
      "       1.89310000e+00, 1.89400000e+00, 1.90400000e+00, 1.91400000e+00,\n",
      "       1.92400000e+00, 1.92640000e+00, 1.93410000e+00, 1.94410000e+00,\n",
      "       1.95410000e+00, 1.95970000e+00, 1.96410000e+00, 1.97410000e+00,\n",
      "       1.98420000e+00, 1.99310000e+00, 1.99420000e+00, 2.00420000e+00,\n",
      "       2.01420000e+00, 2.02430000e+00, 2.02640000e+00, 2.03430000e+00,\n",
      "       2.04430000e+00, 2.05430000e+00, 2.05970000e+00, 2.06430000e+00,\n",
      "       2.07440000e+00, 2.08440000e+00, 2.09310000e+00, 2.09440000e+00,\n",
      "       2.10440000e+00, 2.11440000e+00, 2.12450000e+00, 2.12640000e+00,\n",
      "       2.13450000e+00, 2.14450000e+00, 2.15450000e+00, 2.15970000e+00,\n",
      "       2.16450000e+00, 2.17460000e+00, 2.18460000e+00, 2.19310000e+00,\n",
      "       2.19460000e+00, 2.20460000e+00, 2.21470000e+00, 2.22470000e+00,\n",
      "       2.22640000e+00, 2.23470000e+00, 2.24470000e+00, 2.25470000e+00,\n",
      "       2.25970000e+00, 2.26480000e+00, 2.27480000e+00, 2.28480000e+00,\n",
      "       2.29310000e+00, 2.29480000e+00, 2.30480000e+00, 2.31490000e+00,\n",
      "       2.32490000e+00, 2.32640000e+00, 2.33490000e+00, 2.34490000e+00,\n",
      "       2.35500000e+00, 2.35970000e+00, 2.36500000e+00, 2.37500000e+00,\n",
      "       2.38500000e+00, 2.39310000e+00, 2.39500000e+00, 2.40510000e+00,\n",
      "       2.41510000e+00, 2.42510000e+00, 2.42640000e+00, 2.43510000e+00,\n",
      "       2.44510000e+00, 2.45520000e+00, 2.45970000e+00, 2.46520000e+00,\n",
      "       2.47520000e+00, 2.48520000e+00, 2.49310000e+00, 2.49520000e+00,\n",
      "       2.50530000e+00, 2.51530000e+00, 2.52530000e+00, 2.52640000e+00,\n",
      "       2.53530000e+00, 2.54540000e+00, 2.55540000e+00, 2.55970000e+00,\n",
      "       2.56540000e+00, 2.57540000e+00, 2.58540000e+00, 2.59310000e+00,\n",
      "       2.59550000e+00, 2.60550000e+00, 2.61550000e+00, 2.62550000e+00,\n",
      "       2.62640000e+00, 2.63550000e+00, 2.64560000e+00, 2.65560000e+00,\n",
      "       2.65970000e+00, 2.66560000e+00, 2.67560000e+00, 2.68560000e+00,\n",
      "       2.69310000e+00, 2.69570000e+00, 2.70570000e+00, 2.71570000e+00,\n",
      "       2.72570000e+00, 2.72640000e+00, 2.73580000e+00, 2.74580000e+00,\n",
      "       2.75580000e+00, 2.75970000e+00, 2.76580000e+00, 2.77580000e+00,\n",
      "       2.78590000e+00, 2.79310000e+00, 2.79590000e+00, 2.80590000e+00,\n",
      "       2.81590000e+00, 2.82590000e+00, 2.82640000e+00, 2.83600000e+00,\n",
      "       2.84600000e+00, 2.85600000e+00, 2.85970000e+00, 2.86600000e+00,\n",
      "       2.87600000e+00, 2.88610000e+00, 2.89310000e+00, 2.89610000e+00,\n",
      "       2.90610000e+00, 2.91610000e+00, 2.92620000e+00, 2.92640000e+00,\n",
      "       2.93620000e+00, 2.94620000e+00, 2.95620000e+00, 2.95970000e+00,\n",
      "       2.96620000e+00, 2.97630000e+00, 2.98630000e+00, 2.99310000e+00,\n",
      "       2.99630000e+00, 3.00630000e+00, 3.01630000e+00, 3.02640000e+00,\n",
      "       3.03640000e+00, 3.04640000e+00, 3.05640000e+00, 3.05970000e+00,\n",
      "       3.06640000e+00, 3.07650000e+00, 3.08650000e+00, 3.09310000e+00,\n",
      "       3.09650000e+00, 3.10650000e+00, 3.11660000e+00, 3.12640000e+00,\n",
      "       3.12660000e+00, 3.13660000e+00, 3.14660000e+00, 3.15660000e+00,\n",
      "       3.15970000e+00, 3.16670000e+00, 3.17670000e+00, 3.18670000e+00,\n",
      "       3.19310000e+00, 3.19670000e+00, 3.20670000e+00, 3.21680000e+00,\n",
      "       3.22640000e+00, 3.22680000e+00, 3.23680000e+00, 3.24680000e+00,\n",
      "       3.25680000e+00, 3.26690000e+00, 3.27690000e+00, 3.29690000e+00]) label='z' dtype='f'\n",
      "ocelot []\n"
     ]
    }
   ],
   "source": [
    "fwdir = load_directory(\"./getting_started\", beams=True, verbose=True)"
   ]
  },
  {
   "cell_type": "code",
   "execution_count": 4,
   "id": "15c0991a-05bb-4c26-8fd8-ce5c4cecdfd5",
   "metadata": {},
   "outputs": [
    {
     "data": {
      "image/png": "[encoded data removed]",
      "text/plain": [
       "<Figure size 640x480 with 6 Axes>"
      ]
     },
     "metadata": {},
     "output_type": "display_data"
    }
   ],
   "source": [
    "plt1, fig1, ax1 = fwdir.plot(include_layout=True, include_particles=True, ykeys=['sigma_x', 'sigma_y'], ykeys2=['sigma_z'])"
   ]
  },
  {
   "cell_type": "code",
   "execution_count": 15,
   "id": "94ae59ed-5cb7-40c9-86ee-b98af7cd8e28",
   "metadata": {},
   "outputs": [
    {
     "data": {
      "text/plain": [
       "twissParameter(name='z', unit='m', val=array([0.00000000e+00, 0.00000000e+00, 0.00000000e+00, 0.00000000e+00,\n",
       "       0.00000000e+00, 0.00000000e+00, 0.00000000e+00, 0.00000000e+00,\n",
       "       0.00000000e+00, 0.00000000e+00, 0.00000000e+00, 0.00000000e+00,\n",
       "       0.00000000e+00, 0.00000000e+00, 0.00000000e+00, 0.00000000e+00,\n",
       "       0.00000000e+00, 0.00000000e+00, 0.00000000e+00, 0.00000000e+00,\n",
       "       0.00000000e+00, 0.00000000e+00, 0.00000000e+00, 0.00000000e+00,\n",
       "       0.00000000e+00, 0.00000000e+00, 0.00000000e+00, 0.00000000e+00,\n",
       "       0.00000000e+00, 0.00000000e+00, 3.00000000e-06, 1.59810000e-02,\n",
       "       2.00540000e-02, 3.00630000e-02, 4.00840000e-02, 5.01050000e-02,\n",
       "       6.01270000e-02, 7.01470000e-02, 7.66100000e-02, 8.01680000e-02,\n",
       "       9.01900000e-02, 1.00210000e-01, 1.10230000e-01, 1.14969000e-01,\n",
       "       1.20250000e-01, 1.20968000e-01, 1.21146000e-01, 1.28568000e-01,\n",
       "       1.30270000e-01, 1.40290000e-01, 1.50320000e-01, 1.60340000e-01,\n",
       "       1.70360000e-01, 1.78568000e-01, 1.79870000e-01, 1.80380000e-01,\n",
       "       1.90000000e-01, 1.90400000e-01, 2.00420000e-01, 2.10440000e-01,\n",
       "       2.18068000e-01, 2.20460000e-01, 2.30480000e-01, 2.31068000e-01,\n",
       "       2.39977000e-01, 2.40510000e-01, 2.50530000e-01, 2.60550000e-01,\n",
       "       2.70570000e-01, 2.80570000e-01, 2.80590000e-01, 2.90610000e-01,\n",
       "       2.95000000e-01, 2.95000000e-01, 3.00630000e-01, 3.01820000e-01,\n",
       "       3.01820000e-01, 3.10650000e-01, 3.15000000e-01, 3.20670000e-01,\n",
       "       3.23070000e-01, 3.30700000e-01, 3.40720000e-01, 3.50740000e-01,\n",
       "       3.60760000e-01, 3.65000000e-01, 3.70780000e-01, 3.80068000e-01,\n",
       "       3.80800000e-01, 3.90188000e-01, 3.90820000e-01, 3.93068000e-01,\n",
       "       4.00000000e-01, 4.00188000e-01, 4.00188000e-01, 4.00840000e-01,\n",
       "       4.10188000e-01, 4.10860000e-01, 4.20880000e-01, 4.30568000e-01,\n",
       "       4.30910000e-01, 4.39768000e-01, 4.40686786e-01, 4.40930000e-01,\n",
       "       4.50950000e-01, 4.60970000e-01, 4.70990000e-01, 4.80568000e-01,\n",
       "       4.81010000e-01, 4.88000000e-01, 4.89768000e-01, 4.91030000e-01,\n",
       "       5.01050000e-01, 5.10188000e-01, 5.11070000e-01, 5.21100000e-01,\n",
       "       5.31120000e-01, 5.41140000e-01, 5.51160000e-01, 5.61180000e-01,\n",
       "       5.71200000e-01, 5.79870000e-01, 5.81220000e-01, 5.85568000e-01,\n",
       "       5.85568000e-01, 5.91240000e-01, 6.01260000e-01, 6.03700000e-01,\n",
       "       6.11280000e-01, 6.21310000e-01, 6.31330000e-01, 6.41350000e-01,\n",
       "       6.50000000e-01, 6.51370000e-01, 6.53700000e-01, 6.60188000e-01,\n",
       "       6.61390000e-01, 6.71410000e-01, 6.80570000e-01, 6.81430000e-01,\n",
       "       6.90568000e-01, 6.91450000e-01, 6.92938000e-01, 7.01470000e-01,\n",
       "       7.03438000e-01, 7.03438000e-01, 7.11500000e-01, 7.13938000e-01,\n",
       "       7.21520000e-01, 7.31540000e-01, 7.38068000e-01, 7.41560000e-01,\n",
       "       7.51580000e-01, 7.57200000e-01, 7.57200000e-01, 7.61600000e-01,\n",
       "       7.71620000e-01, 7.81640000e-01, 7.91660000e-01, 7.92170000e-01,\n",
       "       7.92170000e-01, 7.96188000e-01, 8.01680000e-01, 8.04928000e-01,\n",
       "       8.11710000e-01, 8.21730000e-01, 8.31750000e-01, 8.41770000e-01,\n",
       "       8.51790000e-01, 8.61810000e-01, 8.71146000e-01, 8.71830000e-01,\n",
       "       8.75000000e-01, 8.76188000e-01, 8.81850000e-01, 8.84928000e-01,\n",
       "       8.91870000e-01, 8.94050000e-01, 9.00068000e-01, 9.01900000e-01,\n",
       "       9.11920000e-01, 9.21940000e-01, 9.24680000e-01, 9.25000000e-01,\n",
       "       9.31960000e-01, 9.41980000e-01, 9.52000000e-01, 9.54680000e-01,\n",
       "       9.62020000e-01, 9.72040000e-01, 9.78646000e-01, 9.78646000e-01,\n",
       "       9.78646000e-01, 9.80300000e-01, 9.81068000e-01, 9.81500000e-01,\n",
       "       9.82060000e-01, 9.92080000e-01, 1.00210000e+00, 1.01210000e+00,\n",
       "       1.01330000e+00, 1.01330000e+00, 1.02210000e+00, 1.03220000e+00,\n",
       "       1.04220000e+00, 1.04669000e+00, 1.05220000e+00, 1.06220000e+00,\n",
       "       1.07230000e+00, 1.08230000e+00, 1.09230000e+00, 1.10230000e+00,\n",
       "       1.11230000e+00, 1.11336300e+00, 1.11336300e+00, 1.12240000e+00,\n",
       "       1.13240000e+00, 1.14240000e+00, 1.14306800e+00, 1.15240000e+00,\n",
       "       1.15280000e+00, 1.15280000e+00, 1.15280000e+00, 1.16240000e+00,\n",
       "       1.17250000e+00, 1.18250000e+00, 1.19250000e+00, 1.19306800e+00,\n",
       "       1.20250000e+00, 1.21250000e+00, 1.22260000e+00, 1.23260000e+00,\n",
       "       1.23806800e+00, 1.24260000e+00, 1.25260000e+00, 1.25970000e+00,\n",
       "       1.26270000e+00, 1.27000000e+00, 1.27270000e+00, 1.28270000e+00,\n",
       "       1.29270000e+00, 1.29310000e+00, 1.29806800e+00, 1.29806800e+00,\n",
       "       1.30270000e+00, 1.31280000e+00, 1.32280000e+00, 1.32640000e+00,\n",
       "       1.33280000e+00, 1.34280000e+00, 1.35280000e+00, 1.35970000e+00,\n",
       "       1.36290000e+00, 1.37018800e+00, 1.37290000e+00, 1.38290000e+00,\n",
       "       1.39290000e+00, 1.39310000e+00, 1.39669000e+00, 1.39669000e+00,\n",
       "       1.40006800e+00, 1.40290000e+00, 1.40306800e+00, 1.40310000e+00,\n",
       "       1.40310000e+00, 1.41300000e+00, 1.42300000e+00, 1.42640000e+00,\n",
       "       1.43300000e+00, 1.44300000e+00, 1.45000000e+00, 1.45310000e+00,\n",
       "       1.45970000e+00, 1.46310000e+00, 1.47310000e+00, 1.48310000e+00,\n",
       "       1.49310000e+00, 1.49707000e+00, 1.50320000e+00, 1.51320000e+00,\n",
       "       1.52018800e+00, 1.52320000e+00, 1.52640000e+00, 1.52707000e+00,\n",
       "       1.53320000e+00, 1.54320000e+00, 1.55330000e+00, 1.55500000e+00,\n",
       "       1.55500000e+00, 1.55970000e+00, 1.56330000e+00, 1.57330000e+00,\n",
       "       1.58330000e+00, 1.59310000e+00, 1.59330000e+00, 1.60340000e+00,\n",
       "       1.61340000e+00, 1.62340000e+00, 1.62640000e+00, 1.63340000e+00,\n",
       "       1.64350000e+00, 1.65350000e+00, 1.65743400e+00, 1.65743400e+00,\n",
       "       1.65970000e+00, 1.66000000e+00, 1.66350000e+00, 1.67350000e+00,\n",
       "       1.68350000e+00, 1.69310000e+00, 1.69360000e+00, 1.70360000e+00,\n",
       "       1.71317000e+00, 1.71317000e+00, 1.71360000e+00, 1.72360000e+00,\n",
       "       1.72640000e+00, 1.73360000e+00, 1.73806800e+00, 1.74370000e+00,\n",
       "       1.75370000e+00, 1.75970000e+00, 1.76370000e+00, 1.77370000e+00,\n",
       "       1.78370000e+00, 1.79310000e+00, 1.79380000e+00, 1.80380000e+00,\n",
       "       1.81380000e+00, 1.82380000e+00, 1.82640000e+00, 1.83390000e+00,\n",
       "       1.84390000e+00, 1.85390000e+00, 1.85970000e+00, 1.86390000e+00,\n",
       "       1.87390000e+00, 1.87987000e+00, 1.88400000e+00, 1.89310000e+00,\n",
       "       1.89400000e+00, 1.90006800e+00, 1.90400000e+00, 1.91400000e+00,\n",
       "       1.92400000e+00, 1.92640000e+00, 1.93410000e+00, 1.93993128e+00,\n",
       "       1.94410000e+00, 1.95410000e+00, 1.95970000e+00, 1.96410000e+00,\n",
       "       1.97410000e+00, 1.98057000e+00, 1.98420000e+00, 1.99310000e+00,\n",
       "       1.99420000e+00, 2.00420000e+00, 2.01420000e+00, 2.02430000e+00,\n",
       "       2.02640000e+00, 2.03430000e+00, 2.04430000e+00, 2.05430000e+00,\n",
       "       2.05970000e+00, 2.06430000e+00, 2.07440000e+00, 2.08440000e+00,\n",
       "       2.09310000e+00, 2.09440000e+00, 2.10440000e+00, 2.11440000e+00,\n",
       "       2.12450000e+00, 2.12456800e+00, 2.12640000e+00, 2.13450000e+00,\n",
       "       2.14064107e+00, 2.14450000e+00, 2.15450000e+00, 2.15970000e+00,\n",
       "       2.16450000e+00, 2.17456800e+00, 2.17460000e+00, 2.18460000e+00,\n",
       "       2.19310000e+00, 2.19460000e+00, 2.20460000e+00, 2.21470000e+00,\n",
       "       2.22470000e+00, 2.22640000e+00, 2.23470000e+00, 2.24470000e+00,\n",
       "       2.25340000e+00, 2.25340000e+00, 2.25470000e+00, 2.25970000e+00,\n",
       "       2.26480000e+00, 2.27480000e+00, 2.27987000e+00, 2.28480000e+00,\n",
       "       2.29310000e+00, 2.29480000e+00, 2.30480000e+00, 2.31490000e+00,\n",
       "       2.32490000e+00, 2.32640000e+00, 2.33490000e+00, 2.34490000e+00,\n",
       "       2.35500000e+00, 2.35970000e+00, 2.36500000e+00, 2.37500000e+00,\n",
       "       2.38057000e+00, 2.38500000e+00, 2.39310000e+00, 2.39500000e+00,\n",
       "       2.40510000e+00, 2.41510000e+00, 2.42510000e+00, 2.42640000e+00,\n",
       "       2.43510000e+00, 2.43780107e+00, 2.44510000e+00, 2.45520000e+00,\n",
       "       2.45970000e+00, 2.46520000e+00, 2.47520000e+00, 2.48520000e+00,\n",
       "       2.48780107e+00, 2.49310000e+00, 2.49520000e+00, 2.50530000e+00,\n",
       "       2.51294907e+00, 2.51530000e+00, 2.52530000e+00, 2.52640000e+00,\n",
       "       2.52854907e+00, 2.52854907e+00, 2.53530000e+00, 2.54414907e+00,\n",
       "       2.54540000e+00, 2.55020000e+00, 2.55540000e+00, 2.55970000e+00,\n",
       "       2.56540000e+00, 2.57400107e+00, 2.57540000e+00, 2.58540000e+00,\n",
       "       2.59310000e+00, 2.59550000e+00, 2.60020000e+00, 2.60550000e+00,\n",
       "       2.61550000e+00, 2.62550000e+00, 2.62640000e+00, 2.63550000e+00,\n",
       "       2.64560000e+00, 2.64917800e+00, 2.65560000e+00, 2.65970000e+00,\n",
       "       2.66167800e+00, 2.66167800e+00, 2.66560000e+00, 2.67417800e+00,\n",
       "       2.67560000e+00, 2.68560000e+00, 2.69310000e+00, 2.69570000e+00,\n",
       "       2.70570000e+00, 2.71570000e+00, 2.71747800e+00, 2.71747800e+00,\n",
       "       2.72570000e+00, 2.72640000e+00, 2.73580000e+00, 2.74580000e+00,\n",
       "       2.75580000e+00, 2.75970000e+00, 2.76580000e+00, 2.77580000e+00,\n",
       "       2.78590000e+00, 2.79310000e+00, 2.79590000e+00, 2.80590000e+00,\n",
       "       2.81590000e+00, 2.82590000e+00, 2.82640000e+00, 2.83600000e+00,\n",
       "       2.84600000e+00, 2.85020000e+00, 2.85020000e+00, 2.85020000e+00,\n",
       "       2.85020000e+00, 2.85600000e+00, 2.85970000e+00, 2.86600000e+00,\n",
       "       2.87600000e+00, 2.88610000e+00, 2.89310000e+00, 2.89610000e+00,\n",
       "       2.90610000e+00, 2.91610000e+00, 2.92620000e+00, 2.92640000e+00,\n",
       "       2.93620000e+00, 2.94620000e+00, 2.95620000e+00, 2.95970000e+00,\n",
       "       2.96620000e+00, 2.97630000e+00, 2.98630000e+00, 2.99310000e+00,\n",
       "       2.99630000e+00, 3.00630000e+00, 3.01630000e+00, 3.02640000e+00,\n",
       "       3.03336800e+00, 3.03336800e+00, 3.03640000e+00, 3.04640000e+00,\n",
       "       3.05400107e+00, 3.05640000e+00, 3.05970000e+00, 3.06640000e+00,\n",
       "       3.07650000e+00, 3.07950107e+00, 3.07950107e+00, 3.08650000e+00,\n",
       "       3.09302000e+00, 3.09310000e+00, 3.09650000e+00, 3.10650000e+00,\n",
       "       3.11660000e+00, 3.12640000e+00, 3.12660000e+00, 3.13660000e+00,\n",
       "       3.14660000e+00, 3.15660000e+00, 3.15970000e+00, 3.16670000e+00,\n",
       "       3.17670000e+00, 3.18500000e+00, 3.18670000e+00, 3.19310000e+00,\n",
       "       3.19372000e+00, 3.19670000e+00, 3.20670000e+00, 3.21680000e+00,\n",
       "       3.21904500e+00, 3.21904500e+00, 3.22640000e+00, 3.22680000e+00,\n",
       "       3.23500000e+00, 3.23680000e+00, 3.24437000e+00, 3.24680000e+00,\n",
       "       3.25680000e+00, 3.26690000e+00, 3.27690000e+00, 3.28500000e+00,\n",
       "       3.28767000e+00, 3.28767000e+00, 3.29690000e+00, 3.30250000e+00,\n",
       "       3.30250000e+00, 3.32000000e+00, 3.34851300e+00, 3.42512000e+00,\n",
       "       3.43997807e+00, 3.45157000e+00, 3.45157000e+00, 3.45157000e+00,\n",
       "       3.64068786e+00, 4.03506800e+00, 4.14006800e+00, 4.14006800e+00,\n",
       "       4.18163900e+00, 4.18763800e+00, 4.21981300e+00, 4.21981300e+00,\n",
       "       4.22071300e+00, 4.22071300e+00, 4.22071300e+00, 4.22326900e+00,\n",
       "       4.22326900e+00, 4.22326900e+00, 4.24506800e+00, 4.28836800e+00,\n",
       "       4.28836800e+00, 5.11500000e+00, 5.11500000e+00, 5.13993236e+00,\n",
       "       5.25306800e+00, 5.34064214e+00, 5.41506800e+00, 5.44250214e+00,\n",
       "       5.44250214e+00, 5.44250214e+00, 5.50456800e+00, 5.55456800e+00,\n",
       "       5.75306800e+00, 5.91506800e+00, 5.99506800e+00, 6.10006800e+00,\n",
       "       6.10006800e+00, 6.20506800e+00, 6.25306800e+00, 6.41506800e+00,\n",
       "       6.56456800e+00, 6.61456800e+00, 6.76306800e+00, 6.92506800e+00,\n",
       "       6.97506800e+00, 7.08006800e+00, 7.08006800e+00, 7.18506800e+00,\n",
       "       7.25700000e+00, 7.25700000e+00, 7.25700000e+00, 7.25700000e+00]), label='z', dtype='f')"
      ]
     },
     "execution_count": 15,
     "metadata": {},
     "output_type": "execute_result"
    }
   ],
   "source": [
    "fwdir.twiss.z"
   ]
  },
  {
   "cell_type": "code",
   "execution_count": null,
   "id": "07a6a47a-fb0a-4270-ad65-f67d4b21cbba",
   "metadata": {},
   "outputs": [],
   "source": []
  }
 ],
 "metadata": {
  "kernelspec": {
   "display_name": "venv",
   "language": "python",
   "name": "venv"
  },
  "language_info": {
   "codemirror_mode": {
    "name": "ipython",
    "version": 3
   },
   "file_extension": ".py",
   "mimetype": "text/x-python",
   "name": "python",
   "nbconvert_exporter": "python",
   "pygments_lexer": "ipython3",
   "version": "3.12.7"
  }
 },
 "nbformat": 4,
 "nbformat_minor": 5
}
