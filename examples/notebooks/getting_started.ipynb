{
 "cells": [
  {
   "cell_type": "markdown",
   "id": "801ca4e6-af5a-4c51-b0e6-ffb0be338e46",
   "metadata": {},
   "source": [
    "## Getting started with SimFrame"
   ]
  },
  {
   "cell_type": "markdown",
   "id": "1fd06310-63aa-4f50-b67f-d63893108de5",
   "metadata": {},
   "source": [
    "This notebook will show how to set up SimFrame, load in a `MasterLattice` object and settings for tracking, and show how to plot the results.\n",
    "\n",
    "It is assumed that the [MasterLattice](https://gitlab.stfc.ac.uk/jkj62/masterlattice/) and [SimCodes](https://gitlab.stfc.ac.uk/jkj62/simcodes/) repositories have been cloned, and that they are accessible at the same directory level as SimFrame. Alternatively, these can be installed via `setup.py` in their respective directories, in which case they do not have to be provided on instantiation."
   ]
  },
  {
   "cell_type": "code",
   "execution_count": null,
   "id": "d5bf300e-0888-406b-a695-2f364ba59592",
   "metadata": {},
   "outputs": [],
   "source": [
    "import sys\n",
    "import numpy as np\n",
    "import matplotlib.pyplot as plt\n",
    "\n",
    "sys.path.insert(0, \"../../\")\n",
    "import SimulationFramework.Framework as fw  # noqa E402\n",
    "from SimulationFramework.Framework import load_directory  # noqa E402\n",
    "import SimulationFramework.Modules.Beams as rbf  # noqa E402\n",
    "import SimulationFramework.Modules.Twiss as rtf  # noqa E402\n",
    "\n",
    "# Define a new framework instance, in directory 'getting_started'.\n",
    "#       \"clean\" will empty (delete everything!) in the directory if true\n",
    "#       \"verbose\" will print a progressbar if true\n",
    "framework = fw.Framework(\n",
    "        master_lattice='../../../masterlattice/MasterLattice/',\n",
    "        simcodes='../../../simcodes/SimCodes',\n",
    "        directory=\"./getting_started\",\n",
    "        clean=False,\n",
    "        verbose=False\n",
    "    )\n",
    "\n",
    "scaling = 4"
   ]
  },
  {
   "cell_type": "markdown",
   "id": "76afb759-b10f-4d61-9cab-7d551484fa8a",
   "metadata": {},
   "source": [
    "### Preparing the simulation and tracking"
   ]
  },
  {
   "cell_type": "markdown",
   "id": "292970f3-d338-4008-a2d0-5ecef935f12d",
   "metadata": {},
   "source": [
    "Load a lattice definition file. These can be found in `Masterlattice/Lattices` by default."
   ]
  },
  {
   "cell_type": "code",
   "execution_count": null,
   "id": "aa477476-65be-4e92-94f8-e3757fc39e28",
   "metadata": {},
   "outputs": [],
   "source": [
    "framework.loadSettings(\"Lattices/clara400_v13_SP3.def\")\n",
    "startline = \"generator\"\n",
    "endline = \"S06\""
   ]
  },
  {
   "cell_type": "markdown",
   "id": "f5218b6d-c2c2-4666-ab7f-2fbec93777b1",
   "metadata": {},
   "source": [
    "Change all lattice codes to ASTRA/Elegant/GPT/Ocelot with exclusions (injector can only be done in ASTRA/GPT)."
   ]
  },
  {
   "cell_type": "code",
   "execution_count": 5,
   "id": "fcb87429-f975-4721-919f-247927fc8e31",
   "metadata": {},
   "outputs": [],
   "source": [
    "framework.change_Lattice_Code(\"All\", \"elegant\", exclude=[\"injector400\"])\n",
    "\n",
    "# Individual lattice lines defined in the settings file can also be changed,\n",
    "# i.e. framework.change_Lattice_Code(\"VBC\", \"elegant\")"
   ]
  },
  {
   "cell_type": "markdown",
   "id": "fe667984-87e3-4fb6-a1b6-567b30992dc0",
   "metadata": {},
   "source": [
    "This is the code that generates the laser distribution (ASTRA or GPT)"
   ]
  },
  {
   "cell_type": "code",
   "execution_count": 6,
   "id": "7d680265-4d2e-4c65-9923-14ec8f5ea951",
   "metadata": {},
   "outputs": [],
   "source": [
    "framework.change_generator(\"ASTRA\")"
   ]
  },
  {
   "cell_type": "markdown",
   "id": "217dbfe7-6525-4d35-881e-ccee056afc0f",
   "metadata": {},
   "source": [
    "Load a starting laser distribution setting"
   ]
  },
  {
   "cell_type": "code",
   "execution_count": 7,
   "id": "42a9a5e0-b187-4064-bfe3-739bdf733b0c",
   "metadata": {},
   "outputs": [],
   "source": [
    "framework.generator.load_defaults(\"clara_400_2ps_Gaussian\")"
   ]
  },
  {
   "cell_type": "markdown",
   "id": "b86cb842-ec15-4b9b-8803-981bf47b0e15",
   "metadata": {},
   "source": [
    "Set the thermal emittance for the generator"
   ]
  },
  {
   "cell_type": "code",
   "execution_count": 8,
   "id": "db58bcdb-e915-4641-9bad-7f3d97e95b9c",
   "metadata": {},
   "outputs": [],
   "source": [
    "framework.generator.thermal_emittance = 0.0005"
   ]
  },
  {
   "cell_type": "markdown",
   "id": "26ffc04b-7b1a-453a-9e93-359e5105063d",
   "metadata": {},
   "source": [
    "This is a scaling parameter. it defines the number of particles to create at the gun (this is \"ASTRA generator\" which creates distributions).\n",
    "The space charge 3D mesh in ASTRA/GPT performs best if the number of particles is a power of 8."
   ]
  },
  {
   "cell_type": "code",
   "execution_count": 9,
   "id": "2364f673-a81c-4c9e-957b-bc16d467a0e6",
   "metadata": {},
   "outputs": [],
   "source": [
    "framework.generator.number_of_particles = 2 ** (3 * scaling)"
   ]
  },
  {
   "cell_type": "markdown",
   "id": "566adf6b-4667-41a0-98e3-4089592058b6",
   "metadata": {},
   "source": [
    "Modify some lattice parameters"
   ]
  },
  {
   "cell_type": "code",
   "execution_count": 10,
   "id": "50794df6-bbca-47f9-b056-246549d66605",
   "metadata": {},
   "outputs": [],
   "source": [
    "framework[\"CLA-S02-MAG-QUAD-01\"].k1l += 0.1\n",
    "framework[\"CLA-L03-LIN-CAV-01\"].phase += 5\n",
    "framework[\"bunch_compressor\"].set_angle(0.090)"
   ]
  },
  {
   "cell_type": "markdown",
   "id": "3d04bdad-72ff-4097-8def-9a21f834ab82",
   "metadata": {},
   "source": [
    "Generate and track the bunch "
   ]
  },
  {
   "cell_type": "code",
   "execution_count": 11,
   "id": "c2a2c950-042f-400c-8fa4-10c727c3188f",
   "metadata": {},
   "outputs": [
    {
     "name": "stderr",
     "output_type": "stream",
     "text": [
      "/home/xkc85723/Documents/simframe/examples/notebooks/../../SimulationFramework/Modules/Beams/Particles/__init__.py:904: UserWarning: Both beta and alpha must be provided to rematch\n",
      "  warnings.warn(\"Both beta and alpha must be provided to rematch\")\n",
      "/home/xkc85723/Documents/simframe/examples/notebooks/../../SimulationFramework/Modules/Beams/Particles/__init__.py:935: UserWarning: Both beta and alpha must be provided to rematch\n",
      "  warnings.warn(\"Both beta and alpha must be provided to rematch\")\n"
     ]
    }
   ],
   "source": [
    "framework.track(startfile=startline, endfile=endline)"
   ]
  },
  {
   "cell_type": "markdown",
   "id": "09e0c347-3fea-4133-b0e0-47a7b5984cb3",
   "metadata": {},
   "source": [
    "The outputs from the simulation can now be loaded as follows, and we can plot the beam evolution along the line"
   ]
  },
  {
   "cell_type": "code",
   "execution_count": null,
   "id": "5362b618-6ebc-4ad4-827f-5c66a8292834",
   "metadata": {},
   "outputs": [],
   "source": [
    "fwdir = load_directory(\"./getting_started\", beams=True)"
   ]
  },
  {
   "cell_type": "code",
   "execution_count": 4,
   "id": "15c0991a-05bb-4c26-8fd8-ce5c4cecdfd5",
   "metadata": {},
   "outputs": [
    {
     "ename": "TypeError",
     "evalue": "'beam' object is not subscriptable",
     "output_type": "error",
     "traceback": [
      "\u001b[0;31m---------------------------------------------------------------------------\u001b[0m",
      "\u001b[0;31mTypeError\u001b[0m                                 Traceback (most recent call last)",
      "Cell \u001b[0;32mIn[4], line 1\u001b[0m\n\u001b[0;32m----> 1\u001b[0m plt1, fig1, ax1 \u001b[38;5;241m=\u001b[39m \u001b[43mfwdir\u001b[49m\u001b[38;5;241;43m.\u001b[39;49m\u001b[43mplot\u001b[49m\u001b[43m(\u001b[49m\u001b[43minclude_layout\u001b[49m\u001b[38;5;241;43m=\u001b[39;49m\u001b[38;5;28;43;01mTrue\u001b[39;49;00m\u001b[43m,\u001b[49m\u001b[43m \u001b[49m\u001b[43minclude_particles\u001b[49m\u001b[38;5;241;43m=\u001b[39;49m\u001b[38;5;28;43;01mTrue\u001b[39;49;00m\u001b[43m,\u001b[49m\u001b[43m \u001b[49m\u001b[43mykeys\u001b[49m\u001b[38;5;241;43m=\u001b[39;49m\u001b[43m[\u001b[49m\u001b[38;5;124;43m'\u001b[39;49m\u001b[38;5;124;43msigma_x\u001b[39;49m\u001b[38;5;124;43m'\u001b[39;49m\u001b[43m,\u001b[49m\u001b[43m \u001b[49m\u001b[38;5;124;43m'\u001b[39;49m\u001b[38;5;124;43msigma_y\u001b[39;49m\u001b[38;5;124;43m'\u001b[39;49m\u001b[43m]\u001b[49m\u001b[43m,\u001b[49m\u001b[43m \u001b[49m\u001b[43mykeys2\u001b[49m\u001b[38;5;241;43m=\u001b[39;49m\u001b[43m[\u001b[49m\u001b[38;5;124;43m'\u001b[39;49m\u001b[38;5;124;43msigma_z\u001b[39;49m\u001b[38;5;124;43m'\u001b[39;49m\u001b[43m]\u001b[49m\u001b[43m)\u001b[49m\n",
      "File \u001b[0;32m~/Documents/simframe/examples/notebooks/../../SimulationFramework/Framework.py:2016\u001b[0m, in \u001b[0;36mframeworkDirectory.plot\u001b[0;34m(self, *args, **kwargs)\u001b[0m\n\u001b[1;32m   2012\u001b[0m \u001b[38;5;28;01mdef\u001b[39;00m\u001b[38;5;250m \u001b[39m\u001b[38;5;21mplot\u001b[39m(\u001b[38;5;28mself\u001b[39m, \u001b[38;5;241m*\u001b[39margs, \u001b[38;5;241m*\u001b[39m\u001b[38;5;241m*\u001b[39mkwargs):\n\u001b[1;32m   2013\u001b[0m \u001b[38;5;250m    \u001b[39m\u001b[38;5;124;03m\"\"\"\u001b[39;00m\n\u001b[1;32m   2014\u001b[0m \u001b[38;5;124;03m    Return a plot object; see :func:`~SimulationFramework.Modules.plotting.plotting.plot`.\u001b[39;00m\n\u001b[1;32m   2015\u001b[0m \u001b[38;5;124;03m    \"\"\"\u001b[39;00m\n\u001b[0;32m-> 2016\u001b[0m     \u001b[38;5;28;01mreturn\u001b[39;00m \u001b[43mgroupplot\u001b[49m\u001b[38;5;241;43m.\u001b[39;49m\u001b[43mplot\u001b[49m\u001b[43m(\u001b[49m\u001b[38;5;28;43mself\u001b[39;49m\u001b[43m,\u001b[49m\u001b[43m \u001b[49m\u001b[38;5;241;43m*\u001b[39;49m\u001b[43margs\u001b[49m\u001b[43m,\u001b[49m\u001b[43m \u001b[49m\u001b[38;5;241;43m*\u001b[39;49m\u001b[38;5;241;43m*\u001b[39;49m\u001b[43mkwargs\u001b[49m\u001b[43m)\u001b[49m\n",
      "File \u001b[0;32m~/Documents/simframe/examples/notebooks/../../SimulationFramework/Modules/plotting/plotting.py:440\u001b[0m, in \u001b[0;36mplot\u001b[0;34m(framework_object, ykeys, ykeys2, xkey, limits, nice, include_layout, include_labels, include_legend, include_particles, fields, magnets, grid, **kwargs)\u001b[0m\n\u001b[1;32m    437\u001b[0m \u001b[38;5;28;01mif\u001b[39;00m include_particles:\n\u001b[1;32m    438\u001b[0m     \u001b[38;5;66;03m# try:\u001b[39;00m\n\u001b[1;32m    439\u001b[0m     \u001b[38;5;28;01mfor\u001b[39;00m pname \u001b[38;5;129;01min\u001b[39;00m \u001b[38;5;28mrange\u001b[39m(\u001b[38;5;28mlen\u001b[39m(P)):  \u001b[38;5;66;03m# Modified from Impact\u001b[39;00m\n\u001b[0;32m--> 440\u001b[0m         xp \u001b[38;5;241m=\u001b[39m np\u001b[38;5;241m.\u001b[39mmean(np\u001b[38;5;241m.\u001b[39marray(\u001b[43mP\u001b[49m\u001b[43m[\u001b[49m\u001b[43mpname\u001b[49m\u001b[43m]\u001b[49m\u001b[43m[\u001b[49m\u001b[43mxkey\u001b[49m\u001b[43m]\u001b[49m))\n\u001b[1;32m    441\u001b[0m         \u001b[38;5;28;01mif\u001b[39;00m xp \u001b[38;5;241m>\u001b[39m\u001b[38;5;241m=\u001b[39m limits[\u001b[38;5;241m0\u001b[39m] \u001b[38;5;129;01mand\u001b[39;00m xp \u001b[38;5;241m<\u001b[39m\u001b[38;5;241m=\u001b[39m limits[\u001b[38;5;241m1\u001b[39m]:\n\u001b[1;32m    442\u001b[0m             Pnames\u001b[38;5;241m.\u001b[39mappend(pname)\n",
      "\u001b[0;31mTypeError\u001b[0m: 'beam' object is not subscriptable"
     ]
    },
    {
     "data": {
      "image/png": "[encoded data removed]",
      "text/plain": [
       "<Figure size 640x480 with 4 Axes>"
      ]
     },
     "metadata": {},
     "output_type": "display_data"
    }
   ],
   "source": [
    "plt1, fig1, ax1 = fwdir.plot(include_layout=True, include_particles=True, ykeys=['sigma_x', 'sigma_y'], ykeys2=['sigma_z'])"
   ]
  },
  {
   "cell_type": "code",
   "execution_count": 4,
   "id": "ddfdf79e-9ec0-4b2d-82b0-ecf7a0f72ec2",
   "metadata": {},
   "outputs": [
    {
     "ename": "NameError",
     "evalue": "name 'fwdir' is not defined",
     "output_type": "error",
     "traceback": [
      "\u001b[0;31m---------------------------------------------------------------------------\u001b[0m",
      "\u001b[0;31mNameError\u001b[0m                                 Traceback (most recent call last)",
      "Cell \u001b[0;32mIn[4], line 1\u001b[0m\n\u001b[0;32m----> 1\u001b[0m \u001b[43mfwdir\u001b[49m\u001b[38;5;241m.\u001b[39mbeams\n",
      "\u001b[0;31mNameError\u001b[0m: name 'fwdir' is not defined"
     ]
    }
   ],
   "source": [
    "fwdir.beams"
   ]
  },
  {
   "cell_type": "code",
   "execution_count": 8,
   "id": "5785a1d5-9c6e-41ae-9a71-adbb3081acbf",
   "metadata": {},
   "outputs": [],
   "source": [
    "bdir = rbf.load_directory('./getting_started')"
   ]
  },
  {
   "cell_type": "code",
   "execution_count": 5,
   "id": "67b374e4-2219-469c-b0dd-e69fdb857309",
   "metadata": {},
   "outputs": [
    {
     "data": {
      "text/plain": [
       "True"
      ]
     },
     "execution_count": 5,
     "metadata": {},
     "output_type": "execute_result"
    }
   ],
   "source": [
    "hasattr(np, \"mean\")"
   ]
  },
  {
   "cell_type": "code",
   "execution_count": 3,
   "id": "ac52cd09-6c73-4dcc-bf79-537c1f0e6da6",
   "metadata": {},
   "outputs": [
    {
     "name": "stdout",
     "output_type": "stream",
     "text": [
      "SimFrame ['CLA-VBC-SIM-MARK-01.hdf5', 'CLA-S04-DIA-BPM-06.hdf5', 'CLA-S07-DIA-BPM-02.hdf5', 'CLA-S04-SIM-MARK-02.hdf5', 'CLA-SP3-DIA-BPM-01.hdf5', 'laser.hdf5', 'CLA-S04-DIA-SCR-05.hdf5', 'CLA-S03-DIA-SCR-01.hdf5', 'CLA-SP3-DIA-FCUP-01.hdf5', 'CLA-S02-DIA-SCR-02.hdf5', 'CLA-S07-DIA-BPM-04.hdf5', 'CLA-S07-DIA-BPM-01.hdf5', 'CLA-S06-DIA-SCR-02.hdf5', 'CLA-S07-DIA-BPM-05.hdf5', 'CLA-SP3-DIA-SCR-02.hdf5', 'CLA-S04-DIA-BPM-04.hdf5', 'CLA-S07-DCP-SCR-01.hdf5', 'CLA-S04-DIA-BPM-02.hdf5', 'CLA-S05-DIA-SCR-01.hdf5', 'CLA-S05-DIA-BPM-02.hdf5', 'CLA-S02-DIA-BPM-02.hdf5', 'Twiss_Summary.hdf5', 'CLA-S01-DIA-BPM-01.hdf5', 'CLA-S02-DIA-SCR-01.hdf5', 'CLA-S03-DIA-BPM-01.hdf5', 'CLA-VBC-DIA-SCR-01.hdf5', 'CLA-S01-DIA-SCR-01.hdf5', 'CLA-VBC-DIA-BPM-01.hdf5', 'CLA-S04-DIA-BPM-03.hdf5', 'CLA-S06-SIM-MARK-02.hdf5', 'CLA-S04-DIA-SCR-03.hdf5', 'CLA-S04-DIA-SCR-04.hdf5', 'CLA-S07-DIA-BPM-03.hdf5', 'CLA-S07-SIM-MARK-01.hdf5', 'CLA-S07-SIM-START-01.hdf5', 'CLA-S04-DIA-SCR-02.hdf5', 'CLA-S07-DIA-SCR-02.hdf5', 'CLA-S06-DIA-BPM-01.hdf5', 'CLA-S02-SIM-APER-01.hdf5', 'CLA-SP3-SIM-MARK-01.hdf5', 'CLA-S05-DIA-BPM-01.hdf5', 'CLA-S06-DIA-SCR-01.hdf5', 'CLA-S02-DIA-SCR-03.hdf5', 'CLA-S05-SIM-MARK-01.hdf5', 'Beam_Summary.hdf5', 'CLA-SP3-DIA-SCR-01.hdf5', 'CLA-S07-DIA-SCR-01.hdf5', 'CLA-S04-DIA-BPM-01.hdf5', 'CLA-S04-DIA-SCR-01.hdf5', 'CLA-S06-SIM-MARK-01.hdf5', 'CLA-S02-DIA-BPM-01.hdf5', 'CLA-S04-DIA-BPM-05.hdf5', 'CLA-S06-DIA-BPM-02.hdf5', 'CLA-S04-SIM-MARK-01.hdf5', 'CLA-SP3-DIA-BPM-02.hdf5']\n"
     ]
    },
    {
     "ename": "TypeError",
     "evalue": "'beam' object is not subscriptable",
     "output_type": "error",
     "traceback": [
      "\u001b[0;31m---------------------------------------------------------------------------\u001b[0m",
      "\u001b[0;31mTypeError\u001b[0m                                 Traceback (most recent call last)",
      "Cell \u001b[0;32mIn[3], line 9\u001b[0m\n\u001b[1;32m      7\u001b[0m \u001b[38;5;28mprint\u001b[39m(code, [os\u001b[38;5;241m.\u001b[39mpath\u001b[38;5;241m.\u001b[39mbasename(t) \u001b[38;5;28;01mfor\u001b[39;00m t \u001b[38;5;129;01min\u001b[39;00m beam_files])\n\u001b[1;32m      8\u001b[0m bg\u001b[38;5;241m.\u001b[39madd(beam_files)\n\u001b[0;32m----> 9\u001b[0m \u001b[43mbg\u001b[49m\u001b[38;5;241;43m.\u001b[39;49m\u001b[43msort\u001b[49m\u001b[43m(\u001b[49m\u001b[43m)\u001b[49m\n",
      "File \u001b[0;32m~/Documents/simframe/examples/notebooks/../../SimulationFramework/Modules/Beams/__init__.py:204\u001b[0m, in \u001b[0;36mbeamGroup.sort\u001b[0;34m(self, key, function, *args, **kwargs)\u001b[0m\n\u001b[1;32m    201\u001b[0m \u001b[38;5;28;01melse\u001b[39;00m:\n\u001b[1;32m    202\u001b[0m     func \u001b[38;5;241m=\u001b[39m function\n\u001b[1;32m    203\u001b[0m \u001b[38;5;28mself\u001b[39m\u001b[38;5;241m.\u001b[39mbeams \u001b[38;5;241m=\u001b[39m \u001b[38;5;28mdict\u001b[39m(\n\u001b[0;32m--> 204\u001b[0m     \u001b[38;5;28;43msorted\u001b[39;49m\u001b[43m(\u001b[49m\n\u001b[1;32m    205\u001b[0m \u001b[43m        \u001b[49m\u001b[38;5;28;43mself\u001b[39;49m\u001b[38;5;241;43m.\u001b[39;49m\u001b[43mbeams\u001b[49m\u001b[38;5;241;43m.\u001b[39;49m\u001b[43mitems\u001b[49m\u001b[43m(\u001b[49m\u001b[43m)\u001b[49m\u001b[43m,\u001b[49m\u001b[43m \u001b[49m\u001b[43mkey\u001b[49m\u001b[38;5;241;43m=\u001b[39;49m\u001b[38;5;28;43;01mlambda\u001b[39;49;00m\u001b[43m \u001b[49m\u001b[43mitem\u001b[49m\u001b[43m:\u001b[49m\u001b[43m \u001b[49m\u001b[43mfunc\u001b[49m\u001b[43m(\u001b[49m\u001b[43mitem\u001b[49m\u001b[43m[\u001b[49m\u001b[38;5;241;43m1\u001b[39;49m\u001b[43m]\u001b[49m\u001b[43m[\u001b[49m\u001b[43mkey\u001b[49m\u001b[43m]\u001b[49m\u001b[43m)\u001b[49m\u001b[43m,\u001b[49m\u001b[43m \u001b[49m\u001b[38;5;241;43m*\u001b[39;49m\u001b[43margs\u001b[49m\u001b[43m,\u001b[49m\u001b[43m \u001b[49m\u001b[38;5;241;43m*\u001b[39;49m\u001b[38;5;241;43m*\u001b[39;49m\u001b[43mkwargs\u001b[49m\n\u001b[1;32m    206\u001b[0m \u001b[43m    \u001b[49m\u001b[43m)\u001b[49m\n\u001b[1;32m    207\u001b[0m )\n\u001b[1;32m    208\u001b[0m \u001b[38;5;28;01mreturn\u001b[39;00m \u001b[38;5;28mself\u001b[39m\n",
      "File \u001b[0;32m~/Documents/simframe/examples/notebooks/../../SimulationFramework/Modules/Beams/__init__.py:205\u001b[0m, in \u001b[0;36mbeamGroup.sort.<locals>.<lambda>\u001b[0;34m(item)\u001b[0m\n\u001b[1;32m    201\u001b[0m \u001b[38;5;28;01melse\u001b[39;00m:\n\u001b[1;32m    202\u001b[0m     func \u001b[38;5;241m=\u001b[39m function\n\u001b[1;32m    203\u001b[0m \u001b[38;5;28mself\u001b[39m\u001b[38;5;241m.\u001b[39mbeams \u001b[38;5;241m=\u001b[39m \u001b[38;5;28mdict\u001b[39m(\n\u001b[1;32m    204\u001b[0m     \u001b[38;5;28msorted\u001b[39m(\n\u001b[0;32m--> 205\u001b[0m         \u001b[38;5;28mself\u001b[39m\u001b[38;5;241m.\u001b[39mbeams\u001b[38;5;241m.\u001b[39mitems(), key\u001b[38;5;241m=\u001b[39m\u001b[38;5;28;01mlambda\u001b[39;00m item: func(\u001b[43mitem\u001b[49m\u001b[43m[\u001b[49m\u001b[38;5;241;43m1\u001b[39;49m\u001b[43m]\u001b[49m\u001b[43m[\u001b[49m\u001b[43mkey\u001b[49m\u001b[43m]\u001b[49m), \u001b[38;5;241m*\u001b[39margs, \u001b[38;5;241m*\u001b[39m\u001b[38;5;241m*\u001b[39mkwargs\n\u001b[1;32m    206\u001b[0m     )\n\u001b[1;32m    207\u001b[0m )\n\u001b[1;32m    208\u001b[0m \u001b[38;5;28;01mreturn\u001b[39;00m \u001b[38;5;28mself\u001b[39m\n",
      "\u001b[0;31mTypeError\u001b[0m: 'beam' object is not subscriptable"
     ]
    }
   ],
   "source": [
    "from SimulationFramework.Modules.Beams import beamGroup, beam\n",
    "import glob, os\n",
    "bg = beamGroup()\n",
    "types={\"SimFrame\": \".hdf5\"}\n",
    "for code, string in types.items():\n",
    "    beam_files = glob.glob('./getting_started' + \"/*\" + string)\n",
    "    print(code, [os.path.basename(t) for t in beam_files])\n",
    "    bg.add(beam_files)\n",
    "    bg.sort()"
   ]
  },
  {
   "cell_type": "code",
   "execution_count": 6,
   "id": "09467b35-90f4-4830-82b6-54ad183effa2",
   "metadata": {},
   "outputs": [
    {
     "name": "stdout",
     "output_type": "stream",
     "text": [
      "None\n"
     ]
    }
   ],
   "source": [
    "print(bg.beams[list(bg.beams.keys())[0]].z)"
   ]
  },
  {
   "cell_type": "code",
   "execution_count": 5,
   "id": "ee5c0b68-43cf-4f44-b8f6-6d1fb9a15ea3",
   "metadata": {},
   "outputs": [
    {
     "ename": "TypeError",
     "evalue": "'beam' object is not subscriptable",
     "output_type": "error",
     "traceback": [
      "\u001b[0;31m---------------------------------------------------------------------------\u001b[0m",
      "\u001b[0;31mTypeError\u001b[0m                                 Traceback (most recent call last)",
      "Cell \u001b[0;32mIn[5], line 9\u001b[0m\n\u001b[1;32m      6\u001b[0m X_particles \u001b[38;5;241m=\u001b[39m []\n\u001b[1;32m      8\u001b[0m \u001b[38;5;28;01mfor\u001b[39;00m pname \u001b[38;5;129;01min\u001b[39;00m \u001b[38;5;28mrange\u001b[39m(\u001b[38;5;28mlen\u001b[39m(P)):  \u001b[38;5;66;03m# Modified from Impact\u001b[39;00m\n\u001b[0;32m----> 9\u001b[0m     xp \u001b[38;5;241m=\u001b[39m np\u001b[38;5;241m.\u001b[39mmean(np\u001b[38;5;241m.\u001b[39marray(\u001b[43mP\u001b[49m\u001b[43m[\u001b[49m\u001b[43mpname\u001b[49m\u001b[43m]\u001b[49m\u001b[43m[\u001b[49m\u001b[43mxkey\u001b[49m\u001b[43m]\u001b[49m))\n\u001b[1;32m     10\u001b[0m     \u001b[38;5;28;01mif\u001b[39;00m xp \u001b[38;5;241m>\u001b[39m\u001b[38;5;241m=\u001b[39m limits[\u001b[38;5;241m0\u001b[39m] \u001b[38;5;129;01mand\u001b[39;00m xp \u001b[38;5;241m<\u001b[39m\u001b[38;5;241m=\u001b[39m limits[\u001b[38;5;241m1\u001b[39m]:\n\u001b[1;32m     11\u001b[0m         Pnames\u001b[38;5;241m.\u001b[39mappend(pname)\n",
      "\u001b[0;31mTypeError\u001b[0m: 'beam' object is not subscriptable"
     ]
    }
   ],
   "source": [
    "P = fwdir.beams\n",
    "X = fwdir.twiss.stat(\"z\")\n",
    "xkey = \"z\"\n",
    "limits = X.val.min(), X.val.max()\n",
    "Pnames = []\n",
    "X_particles = []\n",
    "\n",
    "for pname in range(len(P)):  # Modified from Impact\n",
    "    xp = np.mean(np.array(P[pname][xkey]))\n",
    "    if xp >= limits[0] and xp <= limits[1]:\n",
    "        Pnames.append(pname)\n",
    "        X_particles.append(xp)\n",
    "X_particles = np.array(X_particles)"
   ]
  },
  {
   "cell_type": "code",
   "execution_count": null,
   "id": "3f9adde9-2b99-45c1-a29c-4432ab0d0e89",
   "metadata": {},
   "outputs": [],
   "source": []
  },
  {
   "cell_type": "code",
   "execution_count": 5,
   "id": "f6e360f1-fc38-4bef-a157-4bb0bb09e9c8",
   "metadata": {},
   "outputs": [
    {
     "ename": "RecursionError",
     "evalue": "maximum recursion depth exceeded",
     "output_type": "error",
     "traceback": [
      "\u001b[0;31m---------------------------------------------------------------------------\u001b[0m",
      "\u001b[0;31mRecursionError\u001b[0m                            Traceback (most recent call last)",
      "Cell \u001b[0;32mIn[5], line 1\u001b[0m\n\u001b[0;32m----> 1\u001b[0m \u001b[43mP\u001b[49m\u001b[43m[\u001b[49m\u001b[38;5;241;43m0\u001b[39;49m\u001b[43m]\u001b[49m\u001b[38;5;241;43m.\u001b[39;49m\u001b[43msigma_x\u001b[49m\n",
      "File \u001b[0;32m~/Documents/simframe/examples/notebooks/../../SimulationFramework/Modules/Beams/__init__.py:524\u001b[0m, in \u001b[0;36mbeam.__getattr__\u001b[0;34m(self, key)\u001b[0m\n\u001b[1;32m    522\u001b[0m \u001b[38;5;28;01mdef\u001b[39;00m\u001b[38;5;250m \u001b[39m\u001b[38;5;21m__getattr__\u001b[39m(\u001b[38;5;28mself\u001b[39m, key):\n\u001b[1;32m    523\u001b[0m     \u001b[38;5;28;01mtry\u001b[39;00m:\n\u001b[0;32m--> 524\u001b[0m         \u001b[38;5;28;01mreturn\u001b[39;00m \u001b[38;5;28;43mself\u001b[39;49m\u001b[38;5;241;43m.\u001b[39;49m\u001b[38;5;21;43m__getitem__\u001b[39;49m\u001b[43m(\u001b[49m\u001b[43mkey\u001b[49m\u001b[43m)\u001b[49m\n\u001b[1;32m    525\u001b[0m     \u001b[38;5;28;01mexcept\u001b[39;00m \u001b[38;5;167;01mAttributeError\u001b[39;00m:\n\u001b[1;32m    526\u001b[0m         \u001b[38;5;28;01mreturn\u001b[39;00m \u001b[38;5;28mgetattr\u001b[39m(\u001b[38;5;28mself\u001b[39m\u001b[38;5;241m.\u001b[39m_beam, key)\n",
      "File \u001b[0;32m~/Documents/simframe/examples/notebooks/../../SimulationFramework/Modules/Beams/__init__.py:502\u001b[0m, in \u001b[0;36mbeam.__getitem__\u001b[0;34m(self, key)\u001b[0m\n\u001b[1;32m    500\u001b[0m \u001b[38;5;28;01melse\u001b[39;00m:\n\u001b[1;32m    501\u001b[0m     \u001b[38;5;28;01mtry\u001b[39;00m:\n\u001b[0;32m--> 502\u001b[0m         \u001b[38;5;28;01mreturn\u001b[39;00m \u001b[38;5;28;43mgetattr\u001b[39;49m\u001b[43m(\u001b[49m\u001b[38;5;28;43mself\u001b[39;49m\u001b[43m,\u001b[49m\u001b[43m \u001b[49m\u001b[43mkey\u001b[49m\u001b[43m)\u001b[49m\n\u001b[1;32m    503\u001b[0m     \u001b[38;5;28;01mexcept\u001b[39;00m \u001b[38;5;167;01mKeyError\u001b[39;00m:\n\u001b[1;32m    504\u001b[0m         \u001b[38;5;28;01mraise\u001b[39;00m \u001b[38;5;167;01mAttributeError\u001b[39;00m(key)\n",
      "File \u001b[0;32m~/Documents/simframe/examples/notebooks/../../SimulationFramework/Modules/Beams/__init__.py:524\u001b[0m, in \u001b[0;36mbeam.__getattr__\u001b[0;34m(self, key)\u001b[0m\n\u001b[1;32m    522\u001b[0m \u001b[38;5;28;01mdef\u001b[39;00m\u001b[38;5;250m \u001b[39m\u001b[38;5;21m__getattr__\u001b[39m(\u001b[38;5;28mself\u001b[39m, key):\n\u001b[1;32m    523\u001b[0m     \u001b[38;5;28;01mtry\u001b[39;00m:\n\u001b[0;32m--> 524\u001b[0m         \u001b[38;5;28;01mreturn\u001b[39;00m \u001b[38;5;28;43mself\u001b[39;49m\u001b[38;5;241;43m.\u001b[39;49m\u001b[38;5;21;43m__getitem__\u001b[39;49m\u001b[43m(\u001b[49m\u001b[43mkey\u001b[49m\u001b[43m)\u001b[49m\n\u001b[1;32m    525\u001b[0m     \u001b[38;5;28;01mexcept\u001b[39;00m \u001b[38;5;167;01mAttributeError\u001b[39;00m:\n\u001b[1;32m    526\u001b[0m         \u001b[38;5;28;01mreturn\u001b[39;00m \u001b[38;5;28mgetattr\u001b[39m(\u001b[38;5;28mself\u001b[39m\u001b[38;5;241m.\u001b[39m_beam, key)\n",
      "File \u001b[0;32m~/Documents/simframe/examples/notebooks/../../SimulationFramework/Modules/Beams/__init__.py:502\u001b[0m, in \u001b[0;36mbeam.__getitem__\u001b[0;34m(self, key)\u001b[0m\n\u001b[1;32m    500\u001b[0m \u001b[38;5;28;01melse\u001b[39;00m:\n\u001b[1;32m    501\u001b[0m     \u001b[38;5;28;01mtry\u001b[39;00m:\n\u001b[0;32m--> 502\u001b[0m         \u001b[38;5;28;01mreturn\u001b[39;00m \u001b[38;5;28;43mgetattr\u001b[39;49m\u001b[43m(\u001b[49m\u001b[38;5;28;43mself\u001b[39;49m\u001b[43m,\u001b[49m\u001b[43m \u001b[49m\u001b[43mkey\u001b[49m\u001b[43m)\u001b[49m\n\u001b[1;32m    503\u001b[0m     \u001b[38;5;28;01mexcept\u001b[39;00m \u001b[38;5;167;01mKeyError\u001b[39;00m:\n\u001b[1;32m    504\u001b[0m         \u001b[38;5;28;01mraise\u001b[39;00m \u001b[38;5;167;01mAttributeError\u001b[39;00m(key)\n",
      "    \u001b[0;31m[... skipping similar frames: beam.__getattr__ at line 524 (1485 times), beam.__getitem__ at line 502 (1484 times)]\u001b[0m\n",
      "File \u001b[0;32m~/Documents/simframe/examples/notebooks/../../SimulationFramework/Modules/Beams/__init__.py:502\u001b[0m, in \u001b[0;36mbeam.__getitem__\u001b[0;34m(self, key)\u001b[0m\n\u001b[1;32m    500\u001b[0m \u001b[38;5;28;01melse\u001b[39;00m:\n\u001b[1;32m    501\u001b[0m     \u001b[38;5;28;01mtry\u001b[39;00m:\n\u001b[0;32m--> 502\u001b[0m         \u001b[38;5;28;01mreturn\u001b[39;00m \u001b[38;5;28;43mgetattr\u001b[39;49m\u001b[43m(\u001b[49m\u001b[38;5;28;43mself\u001b[39;49m\u001b[43m,\u001b[49m\u001b[43m \u001b[49m\u001b[43mkey\u001b[49m\u001b[43m)\u001b[49m\n\u001b[1;32m    503\u001b[0m     \u001b[38;5;28;01mexcept\u001b[39;00m \u001b[38;5;167;01mKeyError\u001b[39;00m:\n\u001b[1;32m    504\u001b[0m         \u001b[38;5;28;01mraise\u001b[39;00m \u001b[38;5;167;01mAttributeError\u001b[39;00m(key)\n",
      "File \u001b[0;32m~/Documents/simframe/examples/notebooks/../../SimulationFramework/Modules/Beams/__init__.py:524\u001b[0m, in \u001b[0;36mbeam.__getattr__\u001b[0;34m(self, key)\u001b[0m\n\u001b[1;32m    522\u001b[0m \u001b[38;5;28;01mdef\u001b[39;00m\u001b[38;5;250m \u001b[39m\u001b[38;5;21m__getattr__\u001b[39m(\u001b[38;5;28mself\u001b[39m, key):\n\u001b[1;32m    523\u001b[0m     \u001b[38;5;28;01mtry\u001b[39;00m:\n\u001b[0;32m--> 524\u001b[0m         \u001b[38;5;28;01mreturn\u001b[39;00m \u001b[38;5;28;43mself\u001b[39;49m\u001b[38;5;241;43m.\u001b[39;49m\u001b[38;5;21;43m__getitem__\u001b[39;49m\u001b[43m(\u001b[49m\u001b[43mkey\u001b[49m\u001b[43m)\u001b[49m\n\u001b[1;32m    525\u001b[0m     \u001b[38;5;28;01mexcept\u001b[39;00m \u001b[38;5;167;01mAttributeError\u001b[39;00m:\n\u001b[1;32m    526\u001b[0m         \u001b[38;5;28;01mreturn\u001b[39;00m \u001b[38;5;28mgetattr\u001b[39m(\u001b[38;5;28mself\u001b[39m\u001b[38;5;241m.\u001b[39m_beam, key)\n",
      "File \u001b[0;32m~/Documents/simframe/examples/notebooks/../../SimulationFramework/Modules/Beams/__init__.py:498\u001b[0m, in \u001b[0;36mbeam.__getitem__\u001b[0;34m(self, key)\u001b[0m\n\u001b[1;32m    496\u001b[0m \u001b[38;5;28;01mif\u001b[39;00m \u001b[38;5;28mhasattr\u001b[39m(np, key):\n\u001b[1;32m    497\u001b[0m     \u001b[38;5;28;01mreturn\u001b[39;00m stats(\u001b[38;5;28mself\u001b[39m, \u001b[38;5;28mgetattr\u001b[39m(np, key))\n\u001b[0;32m--> 498\u001b[0m \u001b[38;5;28;01mif\u001b[39;00m \u001b[38;5;28;43mhasattr\u001b[39;49m\u001b[43m(\u001b[49m\u001b[38;5;28;43mself\u001b[39;49m\u001b[38;5;241;43m.\u001b[39;49m\u001b[43m_beam\u001b[49m\u001b[43m,\u001b[49m\u001b[43m \u001b[49m\u001b[43mkey\u001b[49m\u001b[43m)\u001b[49m:\n\u001b[1;32m    499\u001b[0m     \u001b[38;5;28;01mreturn\u001b[39;00m \u001b[38;5;28mgetattr\u001b[39m(\u001b[38;5;28mself\u001b[39m\u001b[38;5;241m.\u001b[39m_beam, key)\n\u001b[1;32m    500\u001b[0m \u001b[38;5;28;01melse\u001b[39;00m:\n",
      "File \u001b[0;32m~/Documents/venv/lib/python3.12/site-packages/pydantic/main.py:852\u001b[0m, in \u001b[0;36mBaseModel.__getattr__\u001b[0;34m(self, item)\u001b[0m\n\u001b[1;32m    850\u001b[0m         \u001b[38;5;28;01mraise\u001b[39;00m \u001b[38;5;167;01mAttributeError\u001b[39;00m(\u001b[38;5;124mf\u001b[39m\u001b[38;5;124m'\u001b[39m\u001b[38;5;132;01m{\u001b[39;00m\u001b[38;5;28mtype\u001b[39m(\u001b[38;5;28mself\u001b[39m)\u001b[38;5;241m.\u001b[39m\u001b[38;5;18m__name__\u001b[39m\u001b[38;5;132;01m!r}\u001b[39;00m\u001b[38;5;124m object has no attribute \u001b[39m\u001b[38;5;132;01m{\u001b[39;00mitem\u001b[38;5;132;01m!r}\u001b[39;00m\u001b[38;5;124m'\u001b[39m) \u001b[38;5;28;01mfrom\u001b[39;00m\u001b[38;5;250m \u001b[39m\u001b[38;5;21;01mexc\u001b[39;00m\n\u001b[1;32m    851\u001b[0m \u001b[38;5;28;01melse\u001b[39;00m:\n\u001b[0;32m--> 852\u001b[0m     \u001b[38;5;28;01mif\u001b[39;00m \u001b[38;5;28;43mhasattr\u001b[39;49m\u001b[43m(\u001b[49m\u001b[38;5;28;43mself\u001b[39;49m\u001b[38;5;241;43m.\u001b[39;49m\u001b[38;5;18;43m__class__\u001b[39;49m\u001b[43m,\u001b[49m\u001b[43m \u001b[49m\u001b[43mitem\u001b[49m\u001b[43m)\u001b[49m:\n\u001b[1;32m    853\u001b[0m         \u001b[38;5;28;01mreturn\u001b[39;00m \u001b[38;5;28msuper\u001b[39m()\u001b[38;5;241m.\u001b[39m\u001b[38;5;21m__getattribute__\u001b[39m(item)  \u001b[38;5;66;03m# Raises AttributeError if appropriate\u001b[39;00m\n\u001b[1;32m    854\u001b[0m     \u001b[38;5;28;01melse\u001b[39;00m:\n\u001b[1;32m    855\u001b[0m         \u001b[38;5;66;03m# this is the current error\u001b[39;00m\n",
      "\u001b[0;31mRecursionError\u001b[0m: maximum recursion depth exceeded"
     ]
    }
   ],
   "source": [
    "P[0].sigma_x"
   ]
  },
  {
   "cell_type": "code",
   "execution_count": 6,
   "id": "cdf7ce5a-c5dc-4268-a76e-9a79e223da15",
   "metadata": {},
   "outputs": [
    {
     "name": "stdout",
     "output_type": "stream",
     "text": [
      "sigma_x\n",
      "sigma_y\n",
      "sigma_z\n"
     ]
    }
   ],
   "source": [
    "ykeys=[\"sigma_x\", \"sigma_y\"]\n",
    "ykeys2=[\"sigma_z\"]\n",
    "for ix, keys in enumerate([ykeys, ykeys2]):\n",
    "    for key in keys:\n",
    "        print(key)\n",
    "        if Pnames:\n",
    "            # try:\n",
    "            # print(Pnames, [key in P._parameters['data'] for key in Pnames])\n",
    "            Y_particles = np.array(\n",
    "                [\n",
    "                    (\n",
    "                        np.std(getattr(P[name],key))\n",
    "                        if key in P._parameters[\"data\"]\n",
    "                        else getattr(P[name], key)\n",
    "                    )\n",
    "                    for name in Pnames\n",
    "                ]\n",
    "            )"
   ]
  },
  {
   "cell_type": "code",
   "execution_count": 20,
   "id": "48bad1ef-22e3-4060-9358-bdfc5c91bcb0",
   "metadata": {},
   "outputs": [
    {
     "name": "stdout",
     "output_type": "stream",
     "text": [
      "./getting_started/CLA-VBC-SIM-MARK-01.hdf5\n"
     ]
    },
    {
     "ename": "RecursionError",
     "evalue": "maximum recursion depth exceeded",
     "output_type": "error",
     "traceback": [
      "\u001b[0;31m---------------------------------------------------------------------------\u001b[0m",
      "\u001b[0;31mRecursionError\u001b[0m                            Traceback (most recent call last)",
      "Cell \u001b[0;32mIn[20], line 10\u001b[0m\n\u001b[1;32m      8\u001b[0m file \u001b[38;5;241m=\u001b[39m file\u001b[38;5;241m.\u001b[39mreplace(\u001b[38;5;124m\"\u001b[39m\u001b[38;5;130;01m\\\\\u001b[39;00m\u001b[38;5;124m\"\u001b[39m, \u001b[38;5;124m\"\u001b[39m\u001b[38;5;124m/\u001b[39m\u001b[38;5;124m\"\u001b[39m)\n\u001b[1;32m      9\u001b[0m \u001b[38;5;28mprint\u001b[39m(file)\n\u001b[0;32m---> 10\u001b[0m bg\u001b[38;5;241m.\u001b[39mbeams[file] \u001b[38;5;241m=\u001b[39m \u001b[43mbeam\u001b[49m\u001b[43m(\u001b[49m\u001b[43mfile\u001b[49m\u001b[43m)\u001b[49m\n",
      "File \u001b[0;32m~/Documents/simframe/examples/notebooks/../../SimulationFramework/Modules/Beams/__init__.py:317\u001b[0m, in \u001b[0;36mbeam.__init__\u001b[0;34m(self, filename, *args, **kwargs)\u001b[0m\n\u001b[1;32m    315\u001b[0m \u001b[38;5;28mself\u001b[39m\u001b[38;5;241m.\u001b[39mcode \u001b[38;5;241m=\u001b[39m \u001b[38;5;28;01mNone\u001b[39;00m\n\u001b[1;32m    316\u001b[0m \u001b[38;5;28;01mif\u001b[39;00m \u001b[38;5;28mself\u001b[39m\u001b[38;5;241m.\u001b[39mfilename \u001b[38;5;129;01mis\u001b[39;00m \u001b[38;5;129;01mnot\u001b[39;00m \u001b[38;5;28;01mNone\u001b[39;00m:\n\u001b[0;32m--> 317\u001b[0m     \u001b[38;5;28;43mself\u001b[39;49m\u001b[38;5;241;43m.\u001b[39;49m\u001b[43mread_beam_file\u001b[49m\u001b[43m(\u001b[49m\u001b[38;5;28;43mself\u001b[39;49m\u001b[38;5;241;43m.\u001b[39;49m\u001b[43mfilename\u001b[49m\u001b[43m)\u001b[49m\n",
      "File \u001b[0;32m~/Documents/simframe/examples/notebooks/../../SimulationFramework/Modules/Beams/__init__.py:672\u001b[0m, in \u001b[0;36mbeam.read_beam_file\u001b[0;34m(self, filename, run_extension)\u001b[0m\n\u001b[1;32m    670\u001b[0m pre, ext \u001b[38;5;241m=\u001b[39m os\u001b[38;5;241m.\u001b[39mpath\u001b[38;5;241m.\u001b[39msplitext(os\u001b[38;5;241m.\u001b[39mpath\u001b[38;5;241m.\u001b[39mbasename(filename))\n\u001b[1;32m    671\u001b[0m \u001b[38;5;28;01mif\u001b[39;00m ext\u001b[38;5;241m.\u001b[39mlower()[:\u001b[38;5;241m4\u001b[39m] \u001b[38;5;241m==\u001b[39m \u001b[38;5;124m\"\u001b[39m\u001b[38;5;124m.hdf\u001b[39m\u001b[38;5;124m\"\u001b[39m:\n\u001b[0;32m--> 672\u001b[0m     \u001b[43mhdf5\u001b[49m\u001b[38;5;241;43m.\u001b[39;49m\u001b[43mread_HDF5_beam_file\u001b[49m\u001b[43m(\u001b[49m\u001b[38;5;28;43mself\u001b[39;49m\u001b[43m,\u001b[49m\u001b[43m \u001b[49m\u001b[43mfilename\u001b[49m\u001b[43m)\u001b[49m\n\u001b[1;32m    673\u001b[0m \u001b[38;5;28;01melif\u001b[39;00m ext\u001b[38;5;241m.\u001b[39mlower() \u001b[38;5;241m==\u001b[39m \u001b[38;5;124m\"\u001b[39m\u001b[38;5;124m.sdds\u001b[39m\u001b[38;5;124m\"\u001b[39m:\n\u001b[1;32m    674\u001b[0m     sdds\u001b[38;5;241m.\u001b[39mread_SDDS_beam_file(\u001b[38;5;28mself\u001b[39m, filename)\n",
      "File \u001b[0;32m~/Documents/simframe/examples/notebooks/../../SimulationFramework/Modules/Beams/hdf5.py:233\u001b[0m, in \u001b[0;36mread_HDF5_beam_file\u001b[0;34m(self, filename, local)\u001b[0m\n\u001b[1;32m    231\u001b[0m theta \u001b[38;5;241m=\u001b[39m np\u001b[38;5;241m.\u001b[39marray(h5file\u001b[38;5;241m.\u001b[39mget(\u001b[38;5;124m\"\u001b[39m\u001b[38;5;124m/Parameters/Rotation\u001b[39m\u001b[38;5;124m\"\u001b[39m))\n\u001b[1;32m    232\u001b[0m theta \u001b[38;5;241m=\u001b[39m theta \u001b[38;5;28;01mif\u001b[39;00m theta \u001b[38;5;129;01mis\u001b[39;00m \u001b[38;5;129;01mnot\u001b[39;00m \u001b[38;5;28;01mNone\u001b[39;00m \u001b[38;5;28;01melse\u001b[39;00m \u001b[38;5;241m0\u001b[39m\n\u001b[0;32m--> 233\u001b[0m \u001b[38;5;28;43mself\u001b[39;49m\u001b[38;5;241;43m.\u001b[39;49m\u001b[43mrotation\u001b[49m \u001b[38;5;241m=\u001b[39m theta\n\u001b[1;32m    234\u001b[0m \u001b[38;5;28;01mif\u001b[39;00m local \u001b[38;5;129;01mis\u001b[39;00m \u001b[38;5;28;01mTrue\u001b[39;00m:\n\u001b[1;32m    235\u001b[0m     rotate_beamXZ(\u001b[38;5;28mself\u001b[39m\u001b[38;5;241m.\u001b[39mrotation, preOffset\u001b[38;5;241m=\u001b[39m\u001b[38;5;28mself\u001b[39m\u001b[38;5;241m.\u001b[39mstarting_position)\n",
      "File \u001b[0;32m~/Documents/venv/lib/python3.12/site-packages/pydantic/main.py:890\u001b[0m, in \u001b[0;36mBaseModel.__setattr__\u001b[0;34m(self, name, value)\u001b[0m\n\u001b[1;32m    888\u001b[0m \u001b[38;5;28;01melse\u001b[39;00m:\n\u001b[1;32m    889\u001b[0m     \u001b[38;5;28;01mtry\u001b[39;00m:\n\u001b[0;32m--> 890\u001b[0m         \u001b[38;5;28;43mgetattr\u001b[39;49m\u001b[43m(\u001b[49m\u001b[38;5;28;43mself\u001b[39;49m\u001b[43m,\u001b[49m\u001b[43m \u001b[49m\u001b[43mname\u001b[49m\u001b[43m)\u001b[49m\n\u001b[1;32m    891\u001b[0m     \u001b[38;5;28;01mexcept\u001b[39;00m \u001b[38;5;167;01mAttributeError\u001b[39;00m:\n\u001b[1;32m    892\u001b[0m         \u001b[38;5;66;03m# attribute does not already exist on instance, so put it in extra\u001b[39;00m\n\u001b[1;32m    893\u001b[0m         \u001b[38;5;28mself\u001b[39m\u001b[38;5;241m.\u001b[39m__pydantic_extra__[name] \u001b[38;5;241m=\u001b[39m value  \u001b[38;5;66;03m# type: ignore\u001b[39;00m\n",
      "File \u001b[0;32m~/Documents/simframe/examples/notebooks/../../SimulationFramework/Modules/Beams/__init__.py:521\u001b[0m, in \u001b[0;36mbeam.__getattr__\u001b[0;34m(self, key)\u001b[0m\n\u001b[1;32m    519\u001b[0m \u001b[38;5;28;01mdef\u001b[39;00m\u001b[38;5;250m \u001b[39m\u001b[38;5;21m__getattr__\u001b[39m(\u001b[38;5;28mself\u001b[39m, key):\n\u001b[1;32m    520\u001b[0m     \u001b[38;5;28;01mtry\u001b[39;00m:\n\u001b[0;32m--> 521\u001b[0m         \u001b[38;5;28;01mreturn\u001b[39;00m \u001b[38;5;28;43mself\u001b[39;49m\u001b[38;5;241;43m.\u001b[39;49m\u001b[38;5;21;43m__getitem__\u001b[39;49m\u001b[43m(\u001b[49m\u001b[43mkey\u001b[49m\u001b[43m)\u001b[49m\n\u001b[1;32m    522\u001b[0m     \u001b[38;5;28;01mexcept\u001b[39;00m \u001b[38;5;167;01mAttributeError\u001b[39;00m:\n\u001b[1;32m    523\u001b[0m         \u001b[38;5;28;01mreturn\u001b[39;00m \u001b[38;5;28mgetattr\u001b[39m(\u001b[38;5;28mself\u001b[39m\u001b[38;5;241m.\u001b[39m_beam, key)\n",
      "File \u001b[0;32m~/Documents/simframe/examples/notebooks/../../SimulationFramework/Modules/Beams/__init__.py:499\u001b[0m, in \u001b[0;36mbeam.__getitem__\u001b[0;34m(self, key)\u001b[0m\n\u001b[1;32m    497\u001b[0m \u001b[38;5;28;01melse\u001b[39;00m:\n\u001b[1;32m    498\u001b[0m     \u001b[38;5;28;01mtry\u001b[39;00m:\n\u001b[0;32m--> 499\u001b[0m         \u001b[38;5;28;01mreturn\u001b[39;00m \u001b[38;5;28;43mgetattr\u001b[39;49m\u001b[43m(\u001b[49m\u001b[38;5;28;43mself\u001b[39;49m\u001b[43m,\u001b[49m\u001b[43m \u001b[49m\u001b[43mkey\u001b[49m\u001b[43m)\u001b[49m\n\u001b[1;32m    500\u001b[0m     \u001b[38;5;28;01mexcept\u001b[39;00m \u001b[38;5;167;01mKeyError\u001b[39;00m:\n\u001b[1;32m    501\u001b[0m         \u001b[38;5;28;01mraise\u001b[39;00m \u001b[38;5;167;01mAttributeError\u001b[39;00m(key)\n",
      "File \u001b[0;32m~/Documents/simframe/examples/notebooks/../../SimulationFramework/Modules/Beams/__init__.py:521\u001b[0m, in \u001b[0;36mbeam.__getattr__\u001b[0;34m(self, key)\u001b[0m\n\u001b[1;32m    519\u001b[0m \u001b[38;5;28;01mdef\u001b[39;00m\u001b[38;5;250m \u001b[39m\u001b[38;5;21m__getattr__\u001b[39m(\u001b[38;5;28mself\u001b[39m, key):\n\u001b[1;32m    520\u001b[0m     \u001b[38;5;28;01mtry\u001b[39;00m:\n\u001b[0;32m--> 521\u001b[0m         \u001b[38;5;28;01mreturn\u001b[39;00m \u001b[38;5;28;43mself\u001b[39;49m\u001b[38;5;241;43m.\u001b[39;49m\u001b[38;5;21;43m__getitem__\u001b[39;49m\u001b[43m(\u001b[49m\u001b[43mkey\u001b[49m\u001b[43m)\u001b[49m\n\u001b[1;32m    522\u001b[0m     \u001b[38;5;28;01mexcept\u001b[39;00m \u001b[38;5;167;01mAttributeError\u001b[39;00m:\n\u001b[1;32m    523\u001b[0m         \u001b[38;5;28;01mreturn\u001b[39;00m \u001b[38;5;28mgetattr\u001b[39m(\u001b[38;5;28mself\u001b[39m\u001b[38;5;241m.\u001b[39m_beam, key)\n",
      "File \u001b[0;32m~/Documents/simframe/examples/notebooks/../../SimulationFramework/Modules/Beams/__init__.py:499\u001b[0m, in \u001b[0;36mbeam.__getitem__\u001b[0;34m(self, key)\u001b[0m\n\u001b[1;32m    497\u001b[0m \u001b[38;5;28;01melse\u001b[39;00m:\n\u001b[1;32m    498\u001b[0m     \u001b[38;5;28;01mtry\u001b[39;00m:\n\u001b[0;32m--> 499\u001b[0m         \u001b[38;5;28;01mreturn\u001b[39;00m \u001b[38;5;28;43mgetattr\u001b[39;49m\u001b[43m(\u001b[49m\u001b[38;5;28;43mself\u001b[39;49m\u001b[43m,\u001b[49m\u001b[43m \u001b[49m\u001b[43mkey\u001b[49m\u001b[43m)\u001b[49m\n\u001b[1;32m    500\u001b[0m     \u001b[38;5;28;01mexcept\u001b[39;00m \u001b[38;5;167;01mKeyError\u001b[39;00m:\n\u001b[1;32m    501\u001b[0m         \u001b[38;5;28;01mraise\u001b[39;00m \u001b[38;5;167;01mAttributeError\u001b[39;00m(key)\n",
      "    \u001b[0;31m[... skipping similar frames: beam.__getattr__ at line 521 (1483 times), beam.__getitem__ at line 499 (1482 times)]\u001b[0m\n",
      "File \u001b[0;32m~/Documents/simframe/examples/notebooks/../../SimulationFramework/Modules/Beams/__init__.py:499\u001b[0m, in \u001b[0;36mbeam.__getitem__\u001b[0;34m(self, key)\u001b[0m\n\u001b[1;32m    497\u001b[0m \u001b[38;5;28;01melse\u001b[39;00m:\n\u001b[1;32m    498\u001b[0m     \u001b[38;5;28;01mtry\u001b[39;00m:\n\u001b[0;32m--> 499\u001b[0m         \u001b[38;5;28;01mreturn\u001b[39;00m \u001b[38;5;28;43mgetattr\u001b[39;49m\u001b[43m(\u001b[49m\u001b[38;5;28;43mself\u001b[39;49m\u001b[43m,\u001b[49m\u001b[43m \u001b[49m\u001b[43mkey\u001b[49m\u001b[43m)\u001b[49m\n\u001b[1;32m    500\u001b[0m     \u001b[38;5;28;01mexcept\u001b[39;00m \u001b[38;5;167;01mKeyError\u001b[39;00m:\n\u001b[1;32m    501\u001b[0m         \u001b[38;5;28;01mraise\u001b[39;00m \u001b[38;5;167;01mAttributeError\u001b[39;00m(key)\n",
      "File \u001b[0;32m~/Documents/simframe/examples/notebooks/../../SimulationFramework/Modules/Beams/__init__.py:521\u001b[0m, in \u001b[0;36mbeam.__getattr__\u001b[0;34m(self, key)\u001b[0m\n\u001b[1;32m    519\u001b[0m \u001b[38;5;28;01mdef\u001b[39;00m\u001b[38;5;250m \u001b[39m\u001b[38;5;21m__getattr__\u001b[39m(\u001b[38;5;28mself\u001b[39m, key):\n\u001b[1;32m    520\u001b[0m     \u001b[38;5;28;01mtry\u001b[39;00m:\n\u001b[0;32m--> 521\u001b[0m         \u001b[38;5;28;01mreturn\u001b[39;00m \u001b[38;5;28;43mself\u001b[39;49m\u001b[38;5;241;43m.\u001b[39;49m\u001b[38;5;21;43m__getitem__\u001b[39;49m\u001b[43m(\u001b[49m\u001b[43mkey\u001b[49m\u001b[43m)\u001b[49m\n\u001b[1;32m    522\u001b[0m     \u001b[38;5;28;01mexcept\u001b[39;00m \u001b[38;5;167;01mAttributeError\u001b[39;00m:\n\u001b[1;32m    523\u001b[0m         \u001b[38;5;28;01mreturn\u001b[39;00m \u001b[38;5;28mgetattr\u001b[39m(\u001b[38;5;28mself\u001b[39m\u001b[38;5;241m.\u001b[39m_beam, key)\n",
      "File \u001b[0;32m~/Documents/simframe/examples/notebooks/../../SimulationFramework/Modules/Beams/__init__.py:495\u001b[0m, in \u001b[0;36mbeam.__getitem__\u001b[0;34m(self, key)\u001b[0m\n\u001b[1;32m    493\u001b[0m \u001b[38;5;28;01mif\u001b[39;00m \u001b[38;5;28mhasattr\u001b[39m(np, key):\n\u001b[1;32m    494\u001b[0m     \u001b[38;5;28;01mreturn\u001b[39;00m stats(\u001b[38;5;28mself\u001b[39m, \u001b[38;5;28mgetattr\u001b[39m(np, key))\n\u001b[0;32m--> 495\u001b[0m \u001b[38;5;28;01mif\u001b[39;00m \u001b[38;5;28;43mhasattr\u001b[39;49m\u001b[43m(\u001b[49m\u001b[38;5;28;43mself\u001b[39;49m\u001b[38;5;241;43m.\u001b[39;49m\u001b[43m_beam\u001b[49m\u001b[43m,\u001b[49m\u001b[43m \u001b[49m\u001b[43mkey\u001b[49m\u001b[43m)\u001b[49m:\n\u001b[1;32m    496\u001b[0m     \u001b[38;5;28;01mreturn\u001b[39;00m \u001b[38;5;28mgetattr\u001b[39m(\u001b[38;5;28mself\u001b[39m\u001b[38;5;241m.\u001b[39m_beam, key)\n\u001b[1;32m    497\u001b[0m \u001b[38;5;28;01melse\u001b[39;00m:\n",
      "File \u001b[0;32m~/Documents/venv/lib/python3.12/site-packages/pydantic/main.py:852\u001b[0m, in \u001b[0;36mBaseModel.__getattr__\u001b[0;34m(self, item)\u001b[0m\n\u001b[1;32m    850\u001b[0m         \u001b[38;5;28;01mraise\u001b[39;00m \u001b[38;5;167;01mAttributeError\u001b[39;00m(\u001b[38;5;124mf\u001b[39m\u001b[38;5;124m'\u001b[39m\u001b[38;5;132;01m{\u001b[39;00m\u001b[38;5;28mtype\u001b[39m(\u001b[38;5;28mself\u001b[39m)\u001b[38;5;241m.\u001b[39m\u001b[38;5;18m__name__\u001b[39m\u001b[38;5;132;01m!r}\u001b[39;00m\u001b[38;5;124m object has no attribute \u001b[39m\u001b[38;5;132;01m{\u001b[39;00mitem\u001b[38;5;132;01m!r}\u001b[39;00m\u001b[38;5;124m'\u001b[39m) \u001b[38;5;28;01mfrom\u001b[39;00m\u001b[38;5;250m \u001b[39m\u001b[38;5;21;01mexc\u001b[39;00m\n\u001b[1;32m    851\u001b[0m \u001b[38;5;28;01melse\u001b[39;00m:\n\u001b[0;32m--> 852\u001b[0m     \u001b[38;5;28;01mif\u001b[39;00m \u001b[38;5;28;43mhasattr\u001b[39;49m\u001b[43m(\u001b[49m\u001b[38;5;28;43mself\u001b[39;49m\u001b[38;5;241;43m.\u001b[39;49m\u001b[38;5;18;43m__class__\u001b[39;49m\u001b[43m,\u001b[49m\u001b[43m \u001b[49m\u001b[43mitem\u001b[49m\u001b[43m)\u001b[49m:\n\u001b[1;32m    853\u001b[0m         \u001b[38;5;28;01mreturn\u001b[39;00m \u001b[38;5;28msuper\u001b[39m()\u001b[38;5;241m.\u001b[39m\u001b[38;5;21m__getattribute__\u001b[39m(item)  \u001b[38;5;66;03m# Raises AttributeError if appropriate\u001b[39;00m\n\u001b[1;32m    854\u001b[0m     \u001b[38;5;28;01melse\u001b[39;00m:\n\u001b[1;32m    855\u001b[0m         \u001b[38;5;66;03m# this is the current error\u001b[39;00m\n",
      "\u001b[0;31mRecursionError\u001b[0m: maximum recursion depth exceeded"
     ]
    }
   ],
   "source": [
    "filename = beam_files[0]\n",
    "if isinstance(filename, str):\n",
    "    filename = [filename]\n",
    "for file in filename:\n",
    "    if os.path.isdir(file):\n",
    "        self.add_directory(file)\n",
    "    elif os.path.isfile(file):\n",
    "        file = file.replace(\"\\\\\", \"/\")\n",
    "        print(file)\n",
    "        bg.beams[file] = beam(file)"
   ]
  },
  {
   "cell_type": "code",
   "execution_count": null,
   "id": "5f12a27e-b3bb-4c21-9fc1-bf74fe3dfe82",
   "metadata": {},
   "outputs": [],
   "source": []
  }
 ],
 "metadata": {
  "kernelspec": {
   "display_name": "Python 3 (ipykernel)",
   "language": "python",
   "name": "python3"
  },
  "language_info": {
   "codemirror_mode": {
    "name": "ipython",
    "version": 3
   },
   "file_extension": ".py",
   "mimetype": "text/x-python",
   "name": "python",
   "nbconvert_exporter": "python",
   "pygments_lexer": "ipython3",
   "version": "3.12.3"
  }
 },
 "nbformat": 4,
 "nbformat_minor": 5
}
